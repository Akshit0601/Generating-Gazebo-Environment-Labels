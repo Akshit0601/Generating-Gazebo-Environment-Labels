{
 "cells": [
  {
   "cell_type": "code",
   "execution_count": 63,
   "metadata": {},
   "outputs": [],
   "source": [
    "import torch\n",
    "import pandas"
   ]
  },
  {
   "cell_type": "code",
   "execution_count": 64,
   "metadata": {},
   "outputs": [],
   "source": [
    "data = pandas.read_csv(\"data.csv\", index_col=None)\n",
    "# data.rename(columns ={'Unnamed: 0': 'id'}, inplace = True)\n"
   ]
  },
  {
   "cell_type": "code",
   "execution_count": 65,
   "metadata": {},
   "outputs": [
    {
     "data": {
      "text/html": [
       "<div>\n",
       "<style scoped>\n",
       "    .dataframe tbody tr th:only-of-type {\n",
       "        vertical-align: middle;\n",
       "    }\n",
       "\n",
       "    .dataframe tbody tr th {\n",
       "        vertical-align: top;\n",
       "    }\n",
       "\n",
       "    .dataframe thead th {\n",
       "        text-align: right;\n",
       "    }\n",
       "</style>\n",
       "<table border=\"1\" class=\"dataframe\">\n",
       "  <thead>\n",
       "    <tr style=\"text-align: right;\">\n",
       "      <th></th>\n",
       "      <th>Unnamed: 0.1</th>\n",
       "      <th>Unnamed: 0</th>\n",
       "      <th>id</th>\n",
       "      <th>frame_id</th>\n",
       "      <th>timestamp_ms</th>\n",
       "      <th>agent_type</th>\n",
       "      <th>x</th>\n",
       "      <th>y</th>\n",
       "      <th>vx</th>\n",
       "      <th>vy</th>\n",
       "      <th>psi_rad</th>\n",
       "      <th>length</th>\n",
       "      <th>width</th>\n",
       "      <th>velocity</th>\n",
       "      <th>ang_vel</th>\n",
       "    </tr>\n",
       "  </thead>\n",
       "  <tbody>\n",
       "    <tr>\n",
       "      <th>0</th>\n",
       "      <td>0</td>\n",
       "      <td>0</td>\n",
       "      <td>0</td>\n",
       "      <td>0</td>\n",
       "      <td>0</td>\n",
       "      <td>car</td>\n",
       "      <td>-14.351</td>\n",
       "      <td>4.636</td>\n",
       "      <td>0.025</td>\n",
       "      <td>-0.012</td>\n",
       "      <td>-0.434</td>\n",
       "      <td>4.0</td>\n",
       "      <td>1.8</td>\n",
       "      <td>0.027731</td>\n",
       "      <td>0.00</td>\n",
       "    </tr>\n",
       "    <tr>\n",
       "      <th>1</th>\n",
       "      <td>1</td>\n",
       "      <td>1</td>\n",
       "      <td>0</td>\n",
       "      <td>1</td>\n",
       "      <td>100</td>\n",
       "      <td>car</td>\n",
       "      <td>-14.349</td>\n",
       "      <td>4.634</td>\n",
       "      <td>0.003</td>\n",
       "      <td>-0.001</td>\n",
       "      <td>-0.434</td>\n",
       "      <td>4.0</td>\n",
       "      <td>1.8</td>\n",
       "      <td>0.003162</td>\n",
       "      <td>0.00</td>\n",
       "    </tr>\n",
       "    <tr>\n",
       "      <th>2</th>\n",
       "      <td>2</td>\n",
       "      <td>2</td>\n",
       "      <td>0</td>\n",
       "      <td>2</td>\n",
       "      <td>200</td>\n",
       "      <td>car</td>\n",
       "      <td>-14.349</td>\n",
       "      <td>4.634</td>\n",
       "      <td>-0.013</td>\n",
       "      <td>0.006</td>\n",
       "      <td>-0.434</td>\n",
       "      <td>4.0</td>\n",
       "      <td>1.8</td>\n",
       "      <td>0.014318</td>\n",
       "      <td>0.00</td>\n",
       "    </tr>\n",
       "    <tr>\n",
       "      <th>3</th>\n",
       "      <td>3</td>\n",
       "      <td>3</td>\n",
       "      <td>0</td>\n",
       "      <td>3</td>\n",
       "      <td>300</td>\n",
       "      <td>car</td>\n",
       "      <td>-14.350</td>\n",
       "      <td>4.635</td>\n",
       "      <td>-0.020</td>\n",
       "      <td>0.009</td>\n",
       "      <td>-0.434</td>\n",
       "      <td>4.0</td>\n",
       "      <td>1.8</td>\n",
       "      <td>0.021932</td>\n",
       "      <td>0.00</td>\n",
       "    </tr>\n",
       "    <tr>\n",
       "      <th>4</th>\n",
       "      <td>4</td>\n",
       "      <td>4</td>\n",
       "      <td>0</td>\n",
       "      <td>4</td>\n",
       "      <td>400</td>\n",
       "      <td>car</td>\n",
       "      <td>-14.352</td>\n",
       "      <td>4.636</td>\n",
       "      <td>-0.015</td>\n",
       "      <td>0.007</td>\n",
       "      <td>-0.434</td>\n",
       "      <td>4.0</td>\n",
       "      <td>1.8</td>\n",
       "      <td>0.016553</td>\n",
       "      <td>0.00</td>\n",
       "    </tr>\n",
       "    <tr>\n",
       "      <th>...</th>\n",
       "      <td>...</td>\n",
       "      <td>...</td>\n",
       "      <td>...</td>\n",
       "      <td>...</td>\n",
       "      <td>...</td>\n",
       "      <td>...</td>\n",
       "      <td>...</td>\n",
       "      <td>...</td>\n",
       "      <td>...</td>\n",
       "      <td>...</td>\n",
       "      <td>...</td>\n",
       "      <td>...</td>\n",
       "      <td>...</td>\n",
       "      <td>...</td>\n",
       "      <td>...</td>\n",
       "    </tr>\n",
       "    <tr>\n",
       "      <th>67560</th>\n",
       "      <td>67560</td>\n",
       "      <td>67560</td>\n",
       "      <td>4536</td>\n",
       "      <td>8992</td>\n",
       "      <td>899200</td>\n",
       "      <td>car</td>\n",
       "      <td>-20.550</td>\n",
       "      <td>-2.083</td>\n",
       "      <td>2.769</td>\n",
       "      <td>-1.803</td>\n",
       "      <td>-0.577</td>\n",
       "      <td>4.0</td>\n",
       "      <td>1.8</td>\n",
       "      <td>3.304265</td>\n",
       "      <td>-0.03</td>\n",
       "    </tr>\n",
       "    <tr>\n",
       "      <th>67561</th>\n",
       "      <td>67561</td>\n",
       "      <td>67561</td>\n",
       "      <td>4536</td>\n",
       "      <td>8993</td>\n",
       "      <td>899300</td>\n",
       "      <td>car</td>\n",
       "      <td>-20.276</td>\n",
       "      <td>-2.268</td>\n",
       "      <td>2.712</td>\n",
       "      <td>-1.780</td>\n",
       "      <td>-0.581</td>\n",
       "      <td>4.0</td>\n",
       "      <td>1.8</td>\n",
       "      <td>3.243970</td>\n",
       "      <td>-0.04</td>\n",
       "    </tr>\n",
       "    <tr>\n",
       "      <th>67562</th>\n",
       "      <td>67562</td>\n",
       "      <td>67562</td>\n",
       "      <td>4536</td>\n",
       "      <td>8994</td>\n",
       "      <td>899400</td>\n",
       "      <td>car</td>\n",
       "      <td>-20.008</td>\n",
       "      <td>-2.451</td>\n",
       "      <td>2.665</td>\n",
       "      <td>-1.763</td>\n",
       "      <td>-0.584</td>\n",
       "      <td>4.0</td>\n",
       "      <td>1.8</td>\n",
       "      <td>3.195371</td>\n",
       "      <td>-0.03</td>\n",
       "    </tr>\n",
       "    <tr>\n",
       "      <th>67563</th>\n",
       "      <td>67563</td>\n",
       "      <td>67563</td>\n",
       "      <td>4536</td>\n",
       "      <td>8995</td>\n",
       "      <td>899500</td>\n",
       "      <td>car</td>\n",
       "      <td>-19.745</td>\n",
       "      <td>-2.633</td>\n",
       "      <td>2.634</td>\n",
       "      <td>-1.755</td>\n",
       "      <td>-0.588</td>\n",
       "      <td>4.0</td>\n",
       "      <td>1.8</td>\n",
       "      <td>3.165119</td>\n",
       "      <td>-0.04</td>\n",
       "    </tr>\n",
       "    <tr>\n",
       "      <th>67564</th>\n",
       "      <td>67564</td>\n",
       "      <td>67564</td>\n",
       "      <td>4536</td>\n",
       "      <td>8996</td>\n",
       "      <td>899600</td>\n",
       "      <td>car</td>\n",
       "      <td>-19.484</td>\n",
       "      <td>-2.813</td>\n",
       "      <td>2.628</td>\n",
       "      <td>-1.764</td>\n",
       "      <td>-0.591</td>\n",
       "      <td>4.0</td>\n",
       "      <td>1.8</td>\n",
       "      <td>3.165135</td>\n",
       "      <td>-0.03</td>\n",
       "    </tr>\n",
       "  </tbody>\n",
       "</table>\n",
       "<p>67565 rows × 15 columns</p>\n",
       "</div>"
      ],
      "text/plain": [
       "       Unnamed: 0.1  Unnamed: 0    id  frame_id  timestamp_ms agent_type  \\\n",
       "0                 0           0     0         0             0        car   \n",
       "1                 1           1     0         1           100        car   \n",
       "2                 2           2     0         2           200        car   \n",
       "3                 3           3     0         3           300        car   \n",
       "4                 4           4     0         4           400        car   \n",
       "...             ...         ...   ...       ...           ...        ...   \n",
       "67560         67560       67560  4536      8992        899200        car   \n",
       "67561         67561       67561  4536      8993        899300        car   \n",
       "67562         67562       67562  4536      8994        899400        car   \n",
       "67563         67563       67563  4536      8995        899500        car   \n",
       "67564         67564       67564  4536      8996        899600        car   \n",
       "\n",
       "            x      y     vx     vy  psi_rad  length  width  velocity  ang_vel  \n",
       "0     -14.351  4.636  0.025 -0.012   -0.434     4.0    1.8  0.027731     0.00  \n",
       "1     -14.349  4.634  0.003 -0.001   -0.434     4.0    1.8  0.003162     0.00  \n",
       "2     -14.349  4.634 -0.013  0.006   -0.434     4.0    1.8  0.014318     0.00  \n",
       "3     -14.350  4.635 -0.020  0.009   -0.434     4.0    1.8  0.021932     0.00  \n",
       "4     -14.352  4.636 -0.015  0.007   -0.434     4.0    1.8  0.016553     0.00  \n",
       "...       ...    ...    ...    ...      ...     ...    ...       ...      ...  \n",
       "67560 -20.550 -2.083  2.769 -1.803   -0.577     4.0    1.8  3.304265    -0.03  \n",
       "67561 -20.276 -2.268  2.712 -1.780   -0.581     4.0    1.8  3.243970    -0.04  \n",
       "67562 -20.008 -2.451  2.665 -1.763   -0.584     4.0    1.8  3.195371    -0.03  \n",
       "67563 -19.745 -2.633  2.634 -1.755   -0.588     4.0    1.8  3.165119    -0.04  \n",
       "67564 -19.484 -2.813  2.628 -1.764   -0.591     4.0    1.8  3.165135    -0.03  \n",
       "\n",
       "[67565 rows x 15 columns]"
      ]
     },
     "execution_count": 65,
     "metadata": {},
     "output_type": "execute_result"
    }
   ],
   "source": [
    "data"
   ]
  },
  {
   "cell_type": "code",
   "execution_count": 75,
   "metadata": {},
   "outputs": [],
   "source": [
    "vector_map = dict()\n",
    "for i in data.id.unique():\n",
    "    temp_data = data[data['id']==i]\n",
    "    vec_list = list()\n",
    "    for iter,row in temp_data.iterrows():\n",
    "        vec = [float(row.x),float(row.y),float(row.timestamp_ms)]\n",
    "        vec_list.append(vec)\n",
    "    vector_map[i] = torch.tensor(vec_list).to(\"cuda\")\n"
   ]
  },
  {
   "cell_type": "code",
   "execution_count": 76,
   "metadata": {},
   "outputs": [
    {
     "data": {
      "text/plain": [
       "tensor([[-1.4351e+01,  4.6360e+00,  0.0000e+00],\n",
       "        [-1.4349e+01,  4.6340e+00,  1.0000e+02],\n",
       "        [-1.4349e+01,  4.6340e+00,  2.0000e+02],\n",
       "        ...,\n",
       "        [ 1.3949e+01,  1.3790e+01,  3.9000e+04],\n",
       "        [ 1.4428e+01,  1.4365e+01,  3.9100e+04],\n",
       "        [ 1.4881e+01,  1.4920e+01,  3.9200e+04]], device='cuda:0')"
      ]
     },
     "execution_count": 76,
     "metadata": {},
     "output_type": "execute_result"
    }
   ],
   "source": [
    "vector_map[0]"
   ]
  },
  {
   "cell_type": "code",
   "execution_count": 88,
   "metadata": {},
   "outputs": [],
   "source": [
    "from math import sin,cos\n",
    "angular_transform = torch.zeros(3,3).to(\"cuda\")\n",
    "linear_transform = torch.tensor([-0.08,-0.05])\n",
    "phi = 0.04"
   ]
  },
  {
   "cell_type": "code",
   "execution_count": 89,
   "metadata": {},
   "outputs": [],
   "source": [
    "angular_transform[0][0] = cos(phi)\n",
    "angular_transform[0][1] = sin(phi)\n",
    "angular_transform[1][0] = -1*sin(phi)\n",
    "angular_transform[1][1] = cos(phi)\n",
    "angular_transform[2][2] = 1"
   ]
  },
  {
   "cell_type": "code",
   "execution_count": 90,
   "metadata": {},
   "outputs": [
    {
     "data": {
      "text/plain": [
       "tensor([[ 0.9992,  0.0400,  0.0000],\n",
       "        [-0.0400,  0.9992,  0.0000],\n",
       "        [ 0.0000,  0.0000,  1.0000]], device='cuda:0')"
      ]
     },
     "execution_count": 90,
     "metadata": {},
     "output_type": "execute_result"
    }
   ],
   "source": [
    "angular_transform"
   ]
  },
  {
   "cell_type": "code",
   "execution_count": 87,
   "metadata": {},
   "outputs": [],
   "source": [
    "t = torch.tensor([-8.244000000000028,2.6680000000000064,1]).to(\"cuda\")\n",
    "t = t-\n",
    "k = t@angular_transform"
   ]
  },
  {
   "cell_type": "code",
   "execution_count": 80,
   "metadata": {},
   "outputs": [],
   "source": [
    "\n",
    "\n",
    "\n",
    "linear_transform = torch.tensor([1.0,2.0,0]).to(\"cuda\")\n",
    "linear_transform.to(\"cuda\")\n",
    "\n",
    "result_map = dict()\n",
    "for i in vector_map:\n",
    "    # vector_map[i] = vector_map[i] - linear_transform\n",
    "    vector_map[i] = torch.bmm(vector_map[i].unsqueeze(0),angular_transform.unsqueeze(0)).squeeze() - linear_transform\n"
   ]
  },
  {
   "cell_type": "code",
   "execution_count": 81,
   "metadata": {},
   "outputs": [
    {
     "data": {
      "text/plain": [
       "tensor([-15.4621,  -6.2769,   0.0000], device='cuda:0')"
      ]
     },
     "execution_count": 81,
     "metadata": {},
     "output_type": "execute_result"
    }
   ],
   "source": [
    "vector_map[0][0] "
   ]
  },
  {
   "cell_type": "code",
   "execution_count": 15,
   "metadata": {},
   "outputs": [
    {
     "data": {
      "image/png": "[encoded data removed]",
      "text/plain": [
       "<Figure size 640x480 with 1 Axes>"
      ]
     },
     "metadata": {},
     "output_type": "display_data"
    }
   ],
   "source": [
    "import matplotlib.pyplot as plt\n",
    "import pandas\n",
    "import matplotlib.colors as mcolors\n",
    "import matplotlib.cm as cm\n",
    "\n",
    "color_map = cm.viridis\n",
    "norm = mcolors.Normalize(vmin=0, vmax=len(data.id.unique()))\n",
    "\n",
    "data = pandas.read_csv(\"data.csv\")\n",
    "fig, ax = plt.subplots()\n",
    "ax.set_xlabel('x-axis')\n",
    "ax.set_ylabel('y-axis')\n",
    "ax.set_title('vehicle path')\n",
    "plt.ion()  # Turn on interactive mode for dynamic updating\n",
    "\n",
    "for i in data.id.unique()[:20]:\n",
    "    data_temp = data[data['id']==i]\n",
    "    color = color_map(norm(i))\n",
    "\n",
    "    # for _,row in data_temp.iterrows():\n",
    "    ax.scatter(data_temp.x.to_list(),data_temp.y.to_list(),c=[color])\n",
    "plt.ioff()\n",
    "plt.show()\n",
    "\n"
   ]
  }
 ],
 "metadata": {
  "kernelspec": {
   "display_name": "Python 3",
   "language": "python",
   "name": "python3"
  },
  "language_info": {
   "codemirror_mode": {
    "name": "ipython",
    "version": 3
   },
   "file_extension": ".py",
   "mimetype": "text/x-python",
   "name": "python",
   "nbconvert_exporter": "python",
   "pygments_lexer": "ipython3",
   "version": "3.10.12"
  }
 },
 "nbformat": 4,
 "nbformat_minor": 2
}
