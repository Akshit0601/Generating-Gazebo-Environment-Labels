{
 "cells": [
  {
   "cell_type": "code",
   "execution_count": 63,
   "metadata": {},
   "outputs": [],
   "source": [
    "import torch\n",
    "import pandas"
   ]
  },
  {
   "cell_type": "markdown",
   "metadata": {},
   "source": []
  },
  {
   "cell_type": "code",
   "execution_count": 64,
   "metadata": {},
   "outputs": [],
   "source": [
    "data = pandas.read_csv(\"data.csv\", index_col=None)\n",
    "# data.rename(columns ={'Unnamed: 0': 'id'}, inplace = True)\n"
   ]
  },
  {
   "cell_type": "code",
   "execution_count": 65,
   "metadata": {},
   "outputs": [
    {
     "data": {
      "text/html": [
       "<div>\n",
       "<style scoped>\n",
       "    .dataframe tbody tr th:only-of-type {\n",
       "        vertical-align: middle;\n",
       "    }\n",
       "\n",
       "    .dataframe tbody tr th {\n",
       "        vertical-align: top;\n",
       "    }\n",
       "\n",
       "    .dataframe thead th {\n",
       "        text-align: right;\n",
       "    }\n",
       "</style>\n",
       "<table border=\"1\" class=\"dataframe\">\n",
       "  <thead>\n",
       "    <tr style=\"text-align: right;\">\n",
       "      <th></th>\n",
       "      <th>Unnamed: 0.1</th>\n",
       "      <th>Unnamed: 0</th>\n",
       "      <th>id</th>\n",
       "      <th>frame_id</th>\n",
       "      <th>timestamp_ms</th>\n",
       "      <th>agent_type</th>\n",
       "      <th>x</th>\n",
       "      <th>y</th>\n",
       "      <th>vx</th>\n",
       "      <th>vy</th>\n",
       "      <th>psi_rad</th>\n",
       "      <th>length</th>\n",
       "      <th>width</th>\n",
       "      <th>velocity</th>\n",
       "      <th>ang_vel</th>\n",
       "    </tr>\n",
       "  </thead>\n",
       "  <tbody>\n",
       "    <tr>\n",
       "      <th>0</th>\n",
       "      <td>0</td>\n",
       "      <td>0</td>\n",
       "      <td>0</td>\n",
       "      <td>0</td>\n",
       "      <td>0</td>\n",
       "      <td>car</td>\n",
       "      <td>-14.351</td>\n",
       "      <td>4.636</td>\n",
       "      <td>0.025</td>\n",
       "      <td>-0.012</td>\n",
       "      <td>-0.434</td>\n",
       "      <td>4.0</td>\n",
       "      <td>1.8</td>\n",
       "      <td>0.027731</td>\n",
       "      <td>0.00</td>\n",
       "    </tr>\n",
       "    <tr>\n",
       "      <th>1</th>\n",
       "      <td>1</td>\n",
       "      <td>1</td>\n",
       "      <td>0</td>\n",
       "      <td>1</td>\n",
       "      <td>100</td>\n",
       "      <td>car</td>\n",
       "      <td>-14.349</td>\n",
       "      <td>4.634</td>\n",
       "      <td>0.003</td>\n",
       "      <td>-0.001</td>\n",
       "      <td>-0.434</td>\n",
       "      <td>4.0</td>\n",
       "      <td>1.8</td>\n",
       "      <td>0.003162</td>\n",
       "      <td>0.00</td>\n",
       "    </tr>\n",
       "    <tr>\n",
       "      <th>2</th>\n",
       "      <td>2</td>\n",
       "      <td>2</td>\n",
       "      <td>0</td>\n",
       "      <td>2</td>\n",
       "      <td>200</td>\n",
       "      <td>car</td>\n",
       "      <td>-14.349</td>\n",
       "      <td>4.634</td>\n",
       "      <td>-0.013</td>\n",
       "      <td>0.006</td>\n",
       "      <td>-0.434</td>\n",
       "      <td>4.0</td>\n",
       "      <td>1.8</td>\n",
       "      <td>0.014318</td>\n",
       "      <td>0.00</td>\n",
       "    </tr>\n",
       "    <tr>\n",
       "      <th>3</th>\n",
       "      <td>3</td>\n",
       "      <td>3</td>\n",
       "      <td>0</td>\n",
       "      <td>3</td>\n",
       "      <td>300</td>\n",
       "      <td>car</td>\n",
       "      <td>-14.350</td>\n",
       "      <td>4.635</td>\n",
       "      <td>-0.020</td>\n",
       "      <td>0.009</td>\n",
       "      <td>-0.434</td>\n",
       "      <td>4.0</td>\n",
       "      <td>1.8</td>\n",
       "      <td>0.021932</td>\n",
       "      <td>0.00</td>\n",
       "    </tr>\n",
       "    <tr>\n",
       "      <th>4</th>\n",
       "      <td>4</td>\n",
       "      <td>4</td>\n",
       "      <td>0</td>\n",
       "      <td>4</td>\n",
       "      <td>400</td>\n",
       "      <td>car</td>\n",
       "      <td>-14.352</td>\n",
       "      <td>4.636</td>\n",
       "      <td>-0.015</td>\n",
       "      <td>0.007</td>\n",
       "      <td>-0.434</td>\n",
       "      <td>4.0</td>\n",
       "      <td>1.8</td>\n",
       "      <td>0.016553</td>\n",
       "      <td>0.00</td>\n",
       "    </tr>\n",
       "    <tr>\n",
       "      <th>...</th>\n",
       "      <td>...</td>\n",
       "      <td>...</td>\n",
       "      <td>...</td>\n",
       "      <td>...</td>\n",
       "      <td>...</td>\n",
       "      <td>...</td>\n",
       "      <td>...</td>\n",
       "      <td>...</td>\n",
       "      <td>...</td>\n",
       "      <td>...</td>\n",
       "      <td>...</td>\n",
       "      <td>...</td>\n",
       "      <td>...</td>\n",
       "      <td>...</td>\n",
       "      <td>...</td>\n",
       "    </tr>\n",
       "    <tr>\n",
       "      <th>67560</th>\n",
       "      <td>67560</td>\n",
       "      <td>67560</td>\n",
       "      <td>4536</td>\n",
       "      <td>8992</td>\n",
       "      <td>899200</td>\n",
       "      <td>car</td>\n",
       "      <td>-20.550</td>\n",
       "      <td>-2.083</td>\n",
       "      <td>2.769</td>\n",
       "      <td>-1.803</td>\n",
       "      <td>-0.577</td>\n",
       "      <td>4.0</td>\n",
       "      <td>1.8</td>\n",
       "      <td>3.304265</td>\n",
       "      <td>-0.03</td>\n",
       "    </tr>\n",
       "    <tr>\n",
       "      <th>67561</th>\n",
       "      <td>67561</td>\n",
       "      <td>67561</td>\n",
       "      <td>4536</td>\n",
       "      <td>8993</td>\n",
       "      <td>899300</td>\n",
       "      <td>car</td>\n",
       "      <td>-20.276</td>\n",
       "      <td>-2.268</td>\n",
       "      <td>2.712</td>\n",
       "      <td>-1.780</td>\n",
       "      <td>-0.581</td>\n",
       "      <td>4.0</td>\n",
       "      <td>1.8</td>\n",
       "      <td>3.243970</td>\n",
       "      <td>-0.04</td>\n",
       "    </tr>\n",
       "    <tr>\n",
       "      <th>67562</th>\n",
       "      <td>67562</td>\n",
       "      <td>67562</td>\n",
       "      <td>4536</td>\n",
       "      <td>8994</td>\n",
       "      <td>899400</td>\n",
       "      <td>car</td>\n",
       "      <td>-20.008</td>\n",
       "      <td>-2.451</td>\n",
       "      <td>2.665</td>\n",
       "      <td>-1.763</td>\n",
       "      <td>-0.584</td>\n",
       "      <td>4.0</td>\n",
       "      <td>1.8</td>\n",
       "      <td>3.195371</td>\n",
       "      <td>-0.03</td>\n",
       "    </tr>\n",
       "    <tr>\n",
       "      <th>67563</th>\n",
       "      <td>67563</td>\n",
       "      <td>67563</td>\n",
       "      <td>4536</td>\n",
       "      <td>8995</td>\n",
       "      <td>899500</td>\n",
       "      <td>car</td>\n",
       "      <td>-19.745</td>\n",
       "      <td>-2.633</td>\n",
       "      <td>2.634</td>\n",
       "      <td>-1.755</td>\n",
       "      <td>-0.588</td>\n",
       "      <td>4.0</td>\n",
       "      <td>1.8</td>\n",
       "      <td>3.165119</td>\n",
       "      <td>-0.04</td>\n",
       "    </tr>\n",
       "    <tr>\n",
       "      <th>67564</th>\n",
       "      <td>67564</td>\n",
       "      <td>67564</td>\n",
       "      <td>4536</td>\n",
       "      <td>8996</td>\n",
       "      <td>899600</td>\n",
       "      <td>car</td>\n",
       "      <td>-19.484</td>\n",
       "      <td>-2.813</td>\n",
       "      <td>2.628</td>\n",
       "      <td>-1.764</td>\n",
       "      <td>-0.591</td>\n",
       "      <td>4.0</td>\n",
       "      <td>1.8</td>\n",
       "      <td>3.165135</td>\n",
       "      <td>-0.03</td>\n",
       "    </tr>\n",
       "  </tbody>\n",
       "</table>\n",
       "<p>67565 rows × 15 columns</p>\n",
       "</div>"
      ],
      "text/plain": [
       "       Unnamed: 0.1  Unnamed: 0    id  frame_id  timestamp_ms agent_type  \\\n",
       "0                 0           0     0         0             0        car   \n",
       "1                 1           1     0         1           100        car   \n",
       "2                 2           2     0         2           200        car   \n",
       "3                 3           3     0         3           300        car   \n",
       "4                 4           4     0         4           400        car   \n",
       "...             ...         ...   ...       ...           ...        ...   \n",
       "67560         67560       67560  4536      8992        899200        car   \n",
       "67561         67561       67561  4536      8993        899300        car   \n",
       "67562         67562       67562  4536      8994        899400        car   \n",
       "67563         67563       67563  4536      8995        899500        car   \n",
       "67564         67564       67564  4536      8996        899600        car   \n",
       "\n",
       "            x      y     vx     vy  psi_rad  length  width  velocity  ang_vel  \n",
       "0     -14.351  4.636  0.025 -0.012   -0.434     4.0    1.8  0.027731     0.00  \n",
       "1     -14.349  4.634  0.003 -0.001   -0.434     4.0    1.8  0.003162     0.00  \n",
       "2     -14.349  4.634 -0.013  0.006   -0.434     4.0    1.8  0.014318     0.00  \n",
       "3     -14.350  4.635 -0.020  0.009   -0.434     4.0    1.8  0.021932     0.00  \n",
       "4     -14.352  4.636 -0.015  0.007   -0.434     4.0    1.8  0.016553     0.00  \n",
       "...       ...    ...    ...    ...      ...     ...    ...       ...      ...  \n",
       "67560 -20.550 -2.083  2.769 -1.803   -0.577     4.0    1.8  3.304265    -0.03  \n",
       "67561 -20.276 -2.268  2.712 -1.780   -0.581     4.0    1.8  3.243970    -0.04  \n",
       "67562 -20.008 -2.451  2.665 -1.763   -0.584     4.0    1.8  3.195371    -0.03  \n",
       "67563 -19.745 -2.633  2.634 -1.755   -0.588     4.0    1.8  3.165119    -0.04  \n",
       "67564 -19.484 -2.813  2.628 -1.764   -0.591     4.0    1.8  3.165135    -0.03  \n",
       "\n",
       "[67565 rows x 15 columns]"
      ]
     },
     "execution_count": 65,
     "metadata": {},
     "output_type": "execute_result"
    }
   ],
   "source": [
    "data"
   ]
  },
  {
   "cell_type": "code",
   "execution_count": 75,
   "metadata": {},
   "outputs": [],
   "source": [
    "vector_map = dict()\n",
    "for i in data.id.unique():\n",
    "    temp_data = data[data['id']==i]\n",
    "    vec_list = list()\n",
    "    for iter,row in temp_data.iterrows():\n",
    "        vec = [float(row.x),float(row.y),float(row.timestamp_ms)]\n",
    "        vec_list.append(vec)\n",
    "    vector_map[i] = torch.tensor(vec_list).to(\"cuda\")\n"
   ]
  },
  {
   "cell_type": "code",
   "execution_count": 76,
   "metadata": {},
   "outputs": [
    {
     "data": {
      "text/plain": [
       "tensor([[-1.4351e+01,  4.6360e+00,  0.0000e+00],\n",
       "        [-1.4349e+01,  4.6340e+00,  1.0000e+02],\n",
       "        [-1.4349e+01,  4.6340e+00,  2.0000e+02],\n",
       "        ...,\n",
       "        [ 1.3949e+01,  1.3790e+01,  3.9000e+04],\n",
       "        [ 1.4428e+01,  1.4365e+01,  3.9100e+04],\n",
       "        [ 1.4881e+01,  1.4920e+01,  3.9200e+04]], device='cuda:0')"
      ]
     },
     "execution_count": 76,
     "metadata": {},
     "output_type": "execute_result"
    }
   ],
   "source": [
    "vector_map[0]"
   ]
  },
  {
   "cell_type": "code",
   "execution_count": 88,
   "metadata": {},
   "outputs": [],
   "source": [
    "from math import sin,cos\n",
    "angular_transform = torch.zeros(3,3).to(\"cuda\")\n",
    "linear_transform = torch.tensor([-0.08,-0.05])\n",
    "phi = 0.04"
   ]
  },
  {
   "cell_type": "code",
   "execution_count": 89,
   "metadata": {},
   "outputs": [],
   "source": [
    "angular_transform[0][0] = cos(phi)\n",
    "angular_transform[0][1] = sin(phi)\n",
    "angular_transform[1][0] = -1*sin(phi)\n",
    "angular_transform[1][1] = cos(phi)\n",
    "angular_transform[2][2] = 1"
   ]
  },
  {
   "cell_type": "code",
   "execution_count": 90,
   "metadata": {},
   "outputs": [
    {
     "data": {
      "text/plain": [
       "tensor([[ 0.9992,  0.0400,  0.0000],\n",
       "        [-0.0400,  0.9992,  0.0000],\n",
       "        [ 0.0000,  0.0000,  1.0000]], device='cuda:0')"
      ]
     },
     "execution_count": 90,
     "metadata": {},
     "output_type": "execute_result"
    }
   ],
   "source": [
    "angular_transform"
   ]
  },
  {
   "cell_type": "code",
   "execution_count": 87,
   "metadata": {},
   "outputs": [],
   "source": [
    "t = torch.tensor([-8.244000000000028,2.6680000000000064,1]).to(\"cuda\")\n",
    "t = t-\n",
    "k = t@angular_transform"
   ]
  },
  {
   "cell_type": "code",
   "execution_count": 80,
   "metadata": {},
   "outputs": [],
   "source": [
    "\n",
    "\n",
    "\n",
    "linear_transform = torch.tensor([1.0,2.0,0]).to(\"cuda\")\n",
    "linear_transform.to(\"cuda\")\n",
    "\n",
    "result_map = dict()\n",
    "for i in vector_map:\n",
    "    # vector_map[i] = vector_map[i] - linear_transform\n",
    "    vector_map[i] = torch.bmm(vector_map[i].unsqueeze(0),angular_transform.unsqueeze(0)).squeeze() - linear_transform\n"
   ]
  },
  {
   "cell_type": "code",
   "execution_count": 81,
   "metadata": {},
   "outputs": [
    {
     "data": {
      "text/plain": [
       "tensor([-15.4621,  -6.2769,   0.0000], device='cuda:0')"
      ]
     },
     "execution_count": 81,
     "metadata": {},
     "output_type": "execute_result"
    }
   ],
   "source": [
    "vector_map[0][0] "
   ]
  },
  {
   "cell_type": "code",
   "execution_count": 3,
   "metadata": {},
   "outputs": [
    {
     "data": {
      "image/png": "[encoded data removed]",
      "text/plain": [
       "<Figure size 640x480 with 1 Axes>"
      ]
     },
     "metadata": {},
     "output_type": "display_data"
    }
   ],
   "source": [
    "import matplotlib.pyplot as plt\n",
    "import pandas\n",
    "import matplotlib.colors as mcolors\n",
    "import matplotlib.cm as cm\n",
    "\n",
    "color_map = cm.viridis\n",
    "\n",
    "data = pandas.read_csv(\"data.csv\")\n",
    "norm = mcolors.Normalize(vmin=0, vmax=len(data.id.unique()))\n",
    "\n",
    "fig, ax = plt.subplots()\n",
    "ax.set_xlabel('x-axis')\n",
    "ax.set_ylabel('y-axis')\n",
    "ax.set_title('vehicle path')\n",
    "plt.ion()  # Turn on interactive mode for dynamic updating\n",
    "\n",
    "for i in data.id.unique()[:20]:\n",
    "    data_temp = data[data['id']==i]\n",
    "    color = color_map(norm(i))\n",
    "\n",
    "    # for _,row in data_temp.iterrows():\n",
    "    ax.scatter(data_temp.x.to_list(),data_temp.y.to_list(),c=[color])\n",
    "\n",
    "ax.plot(0,0,c=\"red\",marker = \"*\")\n",
    "plt.ioff()\n",
    "plt.show()\n",
    "\n"
   ]
  },
  {
   "cell_type": "markdown",
   "metadata": {},
   "source": [
    "Clustering of Lidar \n"
   ]
  },
  {
   "cell_type": "code",
   "execution_count": 1,
   "metadata": {},
   "outputs": [],
   "source": [
    "import torch\n"
   ]
  },
  {
   "cell_type": "code",
   "execution_count": 2,
   "metadata": {},
   "outputs": [],
   "source": [
    "import torch\n",
    "import numpy as np\n",
    "lidar = np.array([16, 16, 16, 16, 16, 16, 16, 16, 16, 16, 16, 16, 16, 16, 16, 16, 16, 16, 16, 16, 16, 16, 16, 16, 16, 16, 16, 16, 16, 16, 16, 16, 16, 16, 16, 16, 16, 16, 16, 16, 16, 16, 16, 16, 16, 16, 16, 16, 16, 16, 16, 16, 16, 16, 16, 16, 16, 16, 16, 16, 16, 16, 16, 16, 16, 16, 16, 16, 16, 16, 16, 16, 16, 16, 16, 16, 16, 16, 16, 16, 16, 16, 16, 16, 16, 16, 16, 16, 16, 16, 16, 16, 16, 16, 16, 16, 16, 11.366155624389648, 11.075774192810059, 10.803101539611816, 10.546699523925781, 10.305283546447754, 10.404522895812988, 10.554227828979492, 10.711647987365723, 10.877232551574707, 11.051470756530762, 11.234895706176758, 11.428088188171387, 11.631683349609375, 11.84637451171875, 12.072925567626953, 12.312172889709473, 12.56503963470459, 12.832541465759277, 16, 16, 16, 16, 16, 16, 16, 16, 16, 16, 16, 16, 16, 16, 16, 16, 16, 16, 16, 16, 16, 16, 11.869912147521973, 11.822927474975586, 11.779923439025879, 11.74083137512207, 11.705587387084961, 11.6741361618042, 11.646427154541016, 12.665647506713867, 16, 16, 16, 16, 16, 16, 16, 16, 16, 16, 16, 16, 16, 16, 16, 16, 16, 16, 16, 16, 16, 16, 16, 16, 16, 16, 16, 16, 16, 16, 16, 16, 16, 16, 16])\n",
    "filter_lidar = lidar[lidar<16]"
   ]
  },
  {
   "cell_type": "code",
   "execution_count": 3,
   "metadata": {},
   "outputs": [
    {
     "data": {
      "text/plain": [
       "array([11.36615562, 11.07577419, 10.80310154, 10.54669952, 10.30528355,\n",
       "       10.4045229 , 10.55422783, 10.71164799, 10.87723255, 11.05147076,\n",
       "       11.23489571, 11.42808819, 11.63168335, 11.84637451, 12.07292557,\n",
       "       12.31217289, 12.56503963, 12.83254147, 11.86991215, 11.82292747,\n",
       "       11.77992344, 11.74083138, 11.70558739, 11.67413616, 11.64642715,\n",
       "       12.66564751])"
      ]
     },
     "execution_count": 3,
     "metadata": {},
     "output_type": "execute_result"
    }
   ],
   "source": [
    "filter_lidar\n"
   ]
  },
  {
   "cell_type": "code",
   "execution_count": 4,
   "metadata": {},
   "outputs": [],
   "source": [
    "from math import degrees,sqrt,sin,cos\n",
    "from std_msgs.msg import Int64MultiArray\n",
    "import cmath\n",
    "\n",
    "# count_threshold = 4\n",
    "# length_threshold = sqrt((5**2)+(3.8**2))\n",
    "tensor_set = list()\n",
    "for i in filter_lidar:\n",
    "        thetha = np.argwhere(lidar == i)[0][0]*0.017\n",
    "        # z = complex(i*cos((lidar.index(i))*0.017),i*sin(lidar.index(i)*0.017))\n",
    "        point_tensor = [float(i)*cos(thetha),float(i)*sin(thetha)]\n",
    "        tensor_set.append(point_tensor)\n",
    "\n",
    "tensors = torch.tensor(tensor_set).to('cuda')\n"
   ]
  },
  {
   "cell_type": "code",
   "execution_count": 5,
   "metadata": {},
   "outputs": [
    {
     "data": {
      "text/plain": [
       "tensor([[-0.8880, 11.3314],\n",
       "        [-1.0529, 11.0256],\n",
       "        [-1.2096, 10.7352],\n",
       "        [-1.3589, 10.4588],\n",
       "        [-1.5013, 10.1953],\n",
       "        [-1.6905, 10.2663],\n",
       "        [-1.8916, 10.3833],\n",
       "        [-2.0987, 10.5040],\n",
       "        [-2.3122, 10.6286],\n",
       "        [-2.5324, 10.7574],\n",
       "        [-2.7600, 10.8906],\n",
       "        [-2.9954, 11.0286],\n",
       "        [-3.2391, 11.1716],\n",
       "        [-3.4918, 11.3201],\n",
       "        [-3.7542, 11.4744],\n",
       "        [-4.0270, 11.6350],\n",
       "        [-4.3109, 11.8024],\n",
       "        [-4.6070, 11.9771],\n",
       "        [-8.1620,  8.6184],\n",
       "        [-8.2744,  8.4449],\n",
       "        [-8.3862,  8.2728],\n",
       "        [-8.4973,  8.1021],\n",
       "        [-8.6079,  7.9326],\n",
       "        [-8.7180,  7.7642],\n",
       "        [-8.8277,  7.5968],\n",
       "        [-9.7393,  8.0972]], device='cuda:0')"
      ]
     },
     "execution_count": 5,
     "metadata": {},
     "output_type": "execute_result"
    }
   ],
   "source": [
    "tensors"
   ]
  },
  {
   "cell_type": "code",
   "execution_count": 6,
   "metadata": {},
   "outputs": [],
   "source": [
    "car_pose = torch.tensor([[-5.095668,14.788768-2.46666],[-9.186936,9.929110-2.46666]]).to('cuda')"
   ]
  },
  {
   "cell_type": "code",
   "execution_count": 7,
   "metadata": {},
   "outputs": [
    {
     "name": "stdout",
     "output_type": "stream",
     "text": [
      "tensor(0, device='cuda:0')\n",
      "tensor(0, device='cuda:0')\n",
      "tensor(0, device='cuda:0')\n",
      "tensor(0, device='cuda:0')\n",
      "tensor(0, device='cuda:0')\n",
      "tensor(0, device='cuda:0')\n",
      "tensor(0, device='cuda:0')\n",
      "tensor(0, device='cuda:0')\n",
      "tensor(0, device='cuda:0')\n",
      "tensor(0, device='cuda:0')\n",
      "tensor(0, device='cuda:0')\n",
      "tensor(0, device='cuda:0')\n",
      "tensor(0, device='cuda:0')\n",
      "tensor(0, device='cuda:0')\n",
      "tensor(0, device='cuda:0')\n",
      "tensor(0, device='cuda:0')\n",
      "tensor(0, device='cuda:0')\n",
      "tensor(0, device='cuda:0')\n",
      "tensor(1, device='cuda:0')\n",
      "tensor(1, device='cuda:0')\n",
      "tensor(1, device='cuda:0')\n",
      "tensor(1, device='cuda:0')\n",
      "tensor(1, device='cuda:0')\n",
      "tensor(1, device='cuda:0')\n",
      "tensor(1, device='cuda:0')\n",
      "tensor(1, device='cuda:0')\n"
     ]
    }
   ],
   "source": [
    "for i in torch.cdist(tensors,car_pose):\n",
    "        #  print(torch.argmin(i)) \n",
    "        print(torch.argmin(i))\n",
    "        # print(i)"
   ]
  },
  {
   "cell_type": "code",
   "execution_count": 8,
   "metadata": {},
   "outputs": [
    {
     "ename": "NameError",
     "evalue": "name 'norm_tensor' is not defined",
     "output_type": "error",
     "traceback": [
      "\u001b[0;31m---------------------------------------------------------------------------\u001b[0m",
      "\u001b[0;31mNameError\u001b[0m                                 Traceback (most recent call last)",
      "Cell \u001b[0;32mIn[8], line 1\u001b[0m\n\u001b[0;32m----> 1\u001b[0m \u001b[43mnorm_tensor\u001b[49m\n",
      "\u001b[0;31mNameError\u001b[0m: name 'norm_tensor' is not defined"
     ]
    }
   ],
   "source": [
    "norm_tensor"
   ]
  },
  {
   "cell_type": "code",
   "execution_count": 9,
   "metadata": {},
   "outputs": [
    {
     "name": "stderr",
     "output_type": "stream",
     "text": [
      "/home/akshit/.local/lib/python3.10/site-packages/matplotlib/projections/__init__.py:63: UserWarning: Unable to import Axes3D. This may be due to multiple versions of Matplotlib being installed (e.g. as a system package and as a pip package). As a result, the 3D projection is not available.\n",
      "  warnings.warn(\"Unable to import Axes3D. This may be due to multiple versions of \"\n"
     ]
    },
    {
     "data": {
      "image/png": "[encoded data removed]",
      "text/plain": [
       "<Figure size 640x480 with 1 Axes>"
      ]
     },
     "metadata": {},
     "output_type": "display_data"
    }
   ],
   "source": [
    "import matplotlib.pyplot as plt\n",
    "\n",
    "color = {0: 'blue', 1: 'red'}\n",
    "\n",
    "norm_tensor = torch.cdist(tensors,car_pose)\n",
    "cnt = 0\n",
    "plt.plot(car_pose[0][0].item(),car_pose[0][1].item(),marker = \".\")\n",
    "plt.plot(car_pose[1][0].item(),car_pose[1][1].item(),marker = \".\")\n",
    "for i in tensors:\n",
    "    plt.plot(i[0].item(),i[1].item(),c = color[torch.argmin(norm_tensor[cnt]).item()],marker = \"*\")\n",
    "    # print(torch.argmin(norm_tensor[cnt]).item())\n",
    "    cnt+=1\n",
    "plt.show()"
   ]
  },
  {
   "cell_type": "markdown",
   "metadata": {},
   "source": [
    "EUCLEDEAN CLUSTERING"
   ]
  },
  {
   "cell_type": "code",
   "execution_count": 124,
   "metadata": {},
   "outputs": [],
   "source": [
    "import torch\n",
    "import numpy as np\n",
    "from scipy.spatial.distance import cdist\n",
    "index_dict = dict()\n",
    "lidar_data = np.array([3.994678020477295, 4.022257328033447, 4.0514750480651855, 4.082386016845703, 4.115047931671143, 4.149524211883545, 4.185882091522217, 4.224193572998047, 4.264537811279297, 4.306997776031494, 4.351664066314697, 4.398634910583496, 4.448013782501221, 4.499914646148682, 4.5544586181640625, 4.6117777824401855, 4.672014236450195, 4.735321521759033, 4.801865577697754, 4.871827125549316, 4.945401668548584, 5.022801876068115, 5.104259014129639, 5.1900248527526855, 5.280375003814697, 16, 16, 16, 16, 16, 16, 16, 16, 16, 16, 16, 16, 16, 16, 16, 16, 16, 16, 16, 16, 16, 16, 16, 16, 16, 16, 16, 16, 16, 16, 16, 16, 16, 16, 16, 16, 16, 16, 16, 16, 16, 16, 16, 16, 16, 16, 16, 16, 16, 16, 16, 16, 16, 16, 16, 16, 16, 16, 16, 16, 16, 16, 16, 16, 5.031928539276123, 4.532718658447266, 4.124775409698486, 3.7852671146392822, 3.4983925819396973, 3.2528679370880127, 3.0404205322265625, 2.854846477508545, 2.691403388977051, 2.5464024543762207, 2.4169323444366455, 2.3006646633148193, 2.1957144737243652, 2.1005399227142334, 2.013867139816284, 1.9346352815628052, 1.8619531393051147, 1.8672007322311401, 1.8836941719055176, 1.9010719060897827, 1.9193693399429321, 1.9386247396469116, 1.9588793516159058, 1.9801772832870483, 2.0025665760040283, 2.0260984897613525, 2.050828456878662, 2.0768165588378906, 2.1041276454925537, 2.132831573486328, 2.1630043983459473, 2.194728136062622, 2.2280919551849365, 2.263193130493164, 2.3001368045806885, 2.339038610458374, 2.380023717880249, 2.423229932785034, 2.4688072204589844, 2.5169215202331543, 2.567754030227661, 2.6215054988861084, 2.6783974170684814, 2.7386746406555176, 16, 16, 16, 16, 16, 16, 16, 16, 16, 16, 16, 16, 16, 16, 16, 16, 16, 16, 16, 16, 16, 16, 16, 16, 16, 16, 16, 16, 16, 16, 16, 16, 16, 16, 16, 16, 16, 16, 16, 16, 16, 16, 16, 16, 16, 16, 16])\n",
    "# lidar_data = lidar_data[lidar_data<16]\n",
    "vel_list = np.zeros(lidar_data.shape[0])\n",
    "\n",
    "tensor = torch.tensor(lidar_data).to('cuda')\n",
    "\n"
   ]
  },
  {
   "cell_type": "code",
   "execution_count": 125,
   "metadata": {},
   "outputs": [
    {
     "data": {
      "text/plain": [
       "180"
      ]
     },
     "execution_count": 125,
     "metadata": {},
     "output_type": "execute_result"
    }
   ],
   "source": [
    "lidar_data.shape[0]"
   ]
  },
  {
   "cell_type": "code",
   "execution_count": 126,
   "metadata": {},
   "outputs": [],
   "source": [
    "def batch_slice_tensor(tensor):\n",
    "    result = []\n",
    "    current_subarray = []\n",
    "\n",
    "    for element in tensor:\n",
    "        if element < 16:\n",
    "            current_subarray.append(element)\n",
    "        else:\n",
    "            if current_subarray:\n",
    "                result.append(torch.tensor(current_subarray).to('cuda'))\n",
    "                current_subarray = []\n",
    "    if current_subarray:\n",
    "        result.append(torch.tensor(current_subarray).to('cuda'))\n",
    "\n",
    "    return result"
   ]
  },
  {
   "cell_type": "code",
   "execution_count": 127,
   "metadata": {},
   "outputs": [],
   "source": [
    "l = batch_slice_tensor(tensor=tensor)"
   ]
  },
  {
   "cell_type": "code",
   "execution_count": 128,
   "metadata": {},
   "outputs": [],
   "source": [
    "lenth_threshold = 0.09 #parameter"
   ]
  },
  {
   "cell_type": "code",
   "execution_count": 129,
   "metadata": {},
   "outputs": [],
   "source": [
    "from math import sin,cos\n",
    "cluster = list()\n",
    "lenth_threshold = 0.4\n",
    "for i in l:\n",
    "    temp_cluster = list()\n",
    "    tensor_set = list()\n",
    "    for j in i:\n",
    "        thetha = np.argwhere(lidar_data == j.item())[0][0]*0.017\n",
    "        # z = complex(i*cos((lidar.index(i))*0.017),i*sin(lidar.index(i)*0.017))\n",
    "        point_tensor = [float(j.item())*cos(thetha),float(j.item())*sin(thetha)]\n",
    "        index_dict[point_tensor[0]] = j.item()\n",
    "        tensor_set.append(point_tensor)\n",
    "    \n",
    "    tensor_set_ = torch.tensor(tensor_set).to('cuda')\n",
    "\n",
    "    for k in range(1,len(tensor_set)):\n",
    "        length = torch.norm(tensor_set_[k]-tensor_set_[k-1])\n",
    "        # print(length)\n",
    "        if abs(length.item())>lenth_threshold:\n",
    "            cluster.append(temp_cluster)\n",
    "            temp_cluster = list()\n",
    "            # print(\"thresh\")\n",
    "        \n",
    "        temp_cluster.append(tensor_set[k])\n",
    "        # print(temp_cluster)\n",
    "    if temp_cluster:\n",
    "        cluster.append(temp_cluster)\n",
    "        \n",
    "\n",
    "    \n"
   ]
  },
  {
   "cell_type": "code",
   "execution_count": 130,
   "metadata": {},
   "outputs": [],
   "source": [
    "m_list = list()\n",
    "for i in cluster:\n",
    "    if i:\n",
    "        m_list.append(np.mean(i,axis=0).tolist())\n",
    "m_list = np.array(m_list)"
   ]
  },
  {
   "cell_type": "code",
   "execution_count": 131,
   "metadata": {},
   "outputs": [
    {
     "data": {
      "text/plain": [
       "array([[ 4.39487931,  0.99279313],\n",
       "       [ 0.18486698,  4.52894719],\n",
       "       [-0.70957144,  2.21999399]])"
      ]
     },
     "execution_count": 131,
     "metadata": {},
     "output_type": "execute_result"
    }
   ],
   "source": [
    "m_list"
   ]
  },
  {
   "cell_type": "code",
   "execution_count": 132,
   "metadata": {},
   "outputs": [],
   "source": [
    "arr1 = np.array([[ 4.39528485,  0.99289812],\n",
    "       [ 0.18490551,  4.52989102],\n",
    "       [-0.70995157,  2.22119054]])\n",
    "\n",
    "arr2 = np.array([[ 4.39487931,  0.99279313],\n",
    "       [ 0.18486698,  4.52894719],\n",
    "       [-0.70957144,  2.21999399],\n",
    "       ])\n",
    "\n",
    "dist = cdist(arr1,arr2)"
   ]
  },
  {
   "cell_type": "code",
   "execution_count": 133,
   "metadata": {},
   "outputs": [],
   "source": [
    "cluster.remove([])"
   ]
  },
  {
   "cell_type": "code",
   "execution_count": 136,
   "metadata": {},
   "outputs": [
    {
     "name": "stdout",
     "output_type": "stream",
     "text": [
      "4.022257328033447\n",
      "4.0514750480651855\n",
      "4.082386016845703\n",
      "4.115047931671143\n",
      "4.149524211883545\n",
      "4.185882091522217\n",
      "4.224193572998047\n",
      "4.264537811279297\n",
      "4.306997776031494\n",
      "4.351664066314697\n",
      "4.398634910583496\n",
      "4.448013782501221\n",
      "4.499914646148682\n",
      "4.5544586181640625\n",
      "4.6117777824401855\n",
      "4.672014236450195\n",
      "4.735321521759033\n",
      "4.801865577697754\n",
      "4.871827125549316\n",
      "4.945401668548584\n",
      "5.022801876068115\n",
      "5.104259014129639\n",
      "5.1900248527526855\n",
      "5.280375003814697\n",
      "4.532718658447266\n",
      "4.124775409698486\n",
      "3.7852671146392822\n",
      "3.4983925819396973\n",
      "3.2528679370880127\n",
      "3.0404205322265625\n",
      "2.854846477508545\n",
      "2.691403388977051\n",
      "2.5464024543762207\n",
      "2.4169323444366455\n",
      "2.3006646633148193\n",
      "2.1957144737243652\n",
      "2.1005399227142334\n",
      "2.013867139816284\n",
      "1.9346352815628052\n",
      "1.8619531393051147\n",
      "1.8672007322311401\n",
      "1.8836941719055176\n",
      "1.9010719060897827\n",
      "1.9193693399429321\n",
      "1.9386247396469116\n",
      "1.9588793516159058\n",
      "1.9801772832870483\n",
      "2.0025665760040283\n",
      "2.0260984897613525\n",
      "2.050828456878662\n",
      "2.0768165588378906\n",
      "2.1041276454925537\n",
      "2.132831573486328\n",
      "2.1630043983459473\n",
      "2.194728136062622\n",
      "2.2280919551849365\n",
      "2.263193130493164\n",
      "2.3001368045806885\n",
      "2.339038610458374\n",
      "2.380023717880249\n",
      "2.423229932785034\n",
      "2.4688072204589844\n",
      "2.5169215202331543\n",
      "2.567754030227661\n",
      "2.6215054988861084\n",
      "2.6783974170684814\n",
      "2.7386746406555176\n"
     ]
    }
   ],
   "source": [
    "for i in range(m_list.shape[0]):\n",
    "    id = np.argmin(dist[i]) #id refers to cluster id\n",
    "    velocity = dist[i][id]/0.03\n",
    "    # print(velocity)\n",
    "    # print(cluster[id])\n",
    "    for k in cluster[id]:\n",
    "        idx = np.where(lidar_data == index_dict[k[0]])[0].item()\n",
    "        print(index_dict[k[0]])\n",
    "        vel_list[idx] = velocity\n",
    "\n",
    "\n"
   ]
  },
  {
   "cell_type": "code",
   "execution_count": 135,
   "metadata": {},
   "outputs": [
    {
     "data": {
      "text/plain": [
       "array([0.        , 0.01396367, 0.01396367, 0.01396367, 0.01396367,\n",
       "       0.01396367, 0.01396367, 0.01396367, 0.01396367, 0.01396367,\n",
       "       0.01396367, 0.01396367, 0.01396367, 0.01396367, 0.01396367,\n",
       "       0.01396367, 0.01396367, 0.01396367, 0.01396367, 0.01396367,\n",
       "       0.01396367, 0.01396367, 0.01396367, 0.01396367, 0.01396367,\n",
       "       0.        , 0.        , 0.        , 0.        , 0.        ,\n",
       "       0.        , 0.        , 0.        , 0.        , 0.        ,\n",
       "       0.        , 0.        , 0.        , 0.        , 0.        ,\n",
       "       0.        , 0.        , 0.        , 0.        , 0.        ,\n",
       "       0.        , 0.        , 0.        , 0.        , 0.        ,\n",
       "       0.        , 0.        , 0.        , 0.        , 0.        ,\n",
       "       0.        , 0.        , 0.        , 0.        , 0.        ,\n",
       "       0.        , 0.        , 0.        , 0.        , 0.        ,\n",
       "       0.        , 0.        , 0.        , 0.        , 0.        ,\n",
       "       0.        , 0.        , 0.        , 0.        , 0.        ,\n",
       "       0.        , 0.        , 0.        , 0.        , 0.        ,\n",
       "       0.        , 0.        , 0.        , 0.        , 0.        ,\n",
       "       0.        , 0.        , 0.        , 0.        , 0.        ,\n",
       "       0.0314872 , 0.04184934, 0.04184934, 0.04184934, 0.04184934,\n",
       "       0.04184934, 0.04184934, 0.04184934, 0.04184934, 0.04184934,\n",
       "       0.04184934, 0.04184934, 0.04184934, 0.04184934, 0.04184934,\n",
       "       0.04184934, 0.04184934, 0.04184934, 0.04184934, 0.04184934,\n",
       "       0.04184934, 0.04184934, 0.04184934, 0.04184934, 0.04184934,\n",
       "       0.04184934, 0.04184934, 0.04184934, 0.04184934, 0.04184934,\n",
       "       0.04184934, 0.04184934, 0.04184934, 0.04184934, 0.04184934,\n",
       "       0.04184934, 0.04184934, 0.04184934, 0.04184934, 0.04184934,\n",
       "       0.04184934, 0.04184934, 0.04184934, 0.        , 0.        ,\n",
       "       0.        , 0.        , 0.        , 0.        , 0.        ,\n",
       "       0.        , 0.        , 0.        , 0.        , 0.        ,\n",
       "       0.        , 0.        , 0.        , 0.        , 0.        ,\n",
       "       0.        , 0.        , 0.        , 0.        , 0.        ,\n",
       "       0.        , 0.        , 0.        , 0.        , 0.        ,\n",
       "       0.        , 0.        , 0.        , 0.        , 0.        ,\n",
       "       0.        , 0.        , 0.        , 0.        , 0.        ,\n",
       "       0.        , 0.        , 0.        , 0.        , 0.        ,\n",
       "       0.        , 0.        , 0.        , 0.        , 0.        ])"
      ]
     },
     "execution_count": 135,
     "metadata": {},
     "output_type": "execute_result"
    }
   ],
   "source": [
    "vel_list"
   ]
  },
  {
   "cell_type": "code",
   "execution_count": 139,
   "metadata": {},
   "outputs": [
    {
     "data": {
      "text/plain": [
       "array([[3.99467802e+00, 4.02225733e+00, 4.05147505e+00, 4.08238602e+00,\n",
       "        4.11504793e+00, 4.14952421e+00, 4.18588209e+00, 4.22419357e+00,\n",
       "        4.26453781e+00, 4.30699778e+00, 4.35166407e+00, 4.39863491e+00,\n",
       "        4.44801378e+00, 4.49991465e+00, 4.55445862e+00, 4.61177778e+00,\n",
       "        4.67201424e+00, 4.73532152e+00, 4.80186558e+00, 4.87182713e+00,\n",
       "        4.94540167e+00, 5.02280188e+00, 5.10425901e+00, 5.19002485e+00,\n",
       "        5.28037500e+00, 1.60000000e+01, 1.60000000e+01, 1.60000000e+01,\n",
       "        1.60000000e+01, 1.60000000e+01, 1.60000000e+01, 1.60000000e+01,\n",
       "        1.60000000e+01, 1.60000000e+01, 1.60000000e+01, 1.60000000e+01,\n",
       "        1.60000000e+01, 1.60000000e+01, 1.60000000e+01, 1.60000000e+01,\n",
       "        1.60000000e+01, 1.60000000e+01, 1.60000000e+01, 1.60000000e+01,\n",
       "        1.60000000e+01, 1.60000000e+01, 1.60000000e+01, 1.60000000e+01,\n",
       "        1.60000000e+01, 1.60000000e+01, 1.60000000e+01, 1.60000000e+01,\n",
       "        1.60000000e+01, 1.60000000e+01, 1.60000000e+01, 1.60000000e+01,\n",
       "        1.60000000e+01, 1.60000000e+01, 1.60000000e+01, 1.60000000e+01,\n",
       "        1.60000000e+01, 1.60000000e+01, 1.60000000e+01, 1.60000000e+01,\n",
       "        1.60000000e+01, 1.60000000e+01, 1.60000000e+01, 1.60000000e+01,\n",
       "        1.60000000e+01, 1.60000000e+01, 1.60000000e+01, 1.60000000e+01,\n",
       "        1.60000000e+01, 1.60000000e+01, 1.60000000e+01, 1.60000000e+01,\n",
       "        1.60000000e+01, 1.60000000e+01, 1.60000000e+01, 1.60000000e+01,\n",
       "        1.60000000e+01, 1.60000000e+01, 1.60000000e+01, 1.60000000e+01,\n",
       "        1.60000000e+01, 1.60000000e+01, 1.60000000e+01, 1.60000000e+01,\n",
       "        1.60000000e+01, 5.03192854e+00, 4.53271866e+00, 4.12477541e+00,\n",
       "        3.78526711e+00, 3.49839258e+00, 3.25286794e+00, 3.04042053e+00,\n",
       "        2.85484648e+00, 2.69140339e+00, 2.54640245e+00, 2.41693234e+00,\n",
       "        2.30066466e+00, 2.19571447e+00, 2.10053992e+00, 2.01386714e+00,\n",
       "        1.93463528e+00, 1.86195314e+00, 1.86720073e+00, 1.88369417e+00,\n",
       "        1.90107191e+00, 1.91936934e+00, 1.93862474e+00, 1.95887935e+00,\n",
       "        1.98017728e+00, 2.00256658e+00, 2.02609849e+00, 2.05082846e+00,\n",
       "        2.07681656e+00, 2.10412765e+00, 2.13283157e+00, 2.16300440e+00,\n",
       "        2.19472814e+00, 2.22809196e+00, 2.26319313e+00, 2.30013680e+00,\n",
       "        2.33903861e+00, 2.38002372e+00, 2.42322993e+00, 2.46880722e+00,\n",
       "        2.51692152e+00, 2.56775403e+00, 2.62150550e+00, 2.67839742e+00,\n",
       "        2.73867464e+00, 1.60000000e+01, 1.60000000e+01, 1.60000000e+01,\n",
       "        1.60000000e+01, 1.60000000e+01, 1.60000000e+01, 1.60000000e+01,\n",
       "        1.60000000e+01, 1.60000000e+01, 1.60000000e+01, 1.60000000e+01,\n",
       "        1.60000000e+01, 1.60000000e+01, 1.60000000e+01, 1.60000000e+01,\n",
       "        1.60000000e+01, 1.60000000e+01, 1.60000000e+01, 1.60000000e+01,\n",
       "        1.60000000e+01, 1.60000000e+01, 1.60000000e+01, 1.60000000e+01,\n",
       "        1.60000000e+01, 1.60000000e+01, 1.60000000e+01, 1.60000000e+01,\n",
       "        1.60000000e+01, 1.60000000e+01, 1.60000000e+01, 1.60000000e+01,\n",
       "        1.60000000e+01, 1.60000000e+01, 1.60000000e+01, 1.60000000e+01,\n",
       "        1.60000000e+01, 1.60000000e+01, 1.60000000e+01, 1.60000000e+01,\n",
       "        1.60000000e+01, 1.60000000e+01, 1.60000000e+01, 1.60000000e+01,\n",
       "        1.60000000e+01, 1.60000000e+01, 1.60000000e+01, 1.60000000e+01],\n",
       "       [0.00000000e+00, 1.39636668e-02, 1.39636668e-02, 1.39636668e-02,\n",
       "        1.39636668e-02, 1.39636668e-02, 1.39636668e-02, 1.39636668e-02,\n",
       "        1.39636668e-02, 1.39636668e-02, 1.39636668e-02, 1.39636668e-02,\n",
       "        1.39636668e-02, 1.39636668e-02, 1.39636668e-02, 1.39636668e-02,\n",
       "        1.39636668e-02, 1.39636668e-02, 1.39636668e-02, 1.39636668e-02,\n",
       "        1.39636668e-02, 1.39636668e-02, 1.39636668e-02, 1.39636668e-02,\n",
       "        1.39636668e-02, 0.00000000e+00, 0.00000000e+00, 0.00000000e+00,\n",
       "        0.00000000e+00, 0.00000000e+00, 0.00000000e+00, 0.00000000e+00,\n",
       "        0.00000000e+00, 0.00000000e+00, 0.00000000e+00, 0.00000000e+00,\n",
       "        0.00000000e+00, 0.00000000e+00, 0.00000000e+00, 0.00000000e+00,\n",
       "        0.00000000e+00, 0.00000000e+00, 0.00000000e+00, 0.00000000e+00,\n",
       "        0.00000000e+00, 0.00000000e+00, 0.00000000e+00, 0.00000000e+00,\n",
       "        0.00000000e+00, 0.00000000e+00, 0.00000000e+00, 0.00000000e+00,\n",
       "        0.00000000e+00, 0.00000000e+00, 0.00000000e+00, 0.00000000e+00,\n",
       "        0.00000000e+00, 0.00000000e+00, 0.00000000e+00, 0.00000000e+00,\n",
       "        0.00000000e+00, 0.00000000e+00, 0.00000000e+00, 0.00000000e+00,\n",
       "        0.00000000e+00, 0.00000000e+00, 0.00000000e+00, 0.00000000e+00,\n",
       "        0.00000000e+00, 0.00000000e+00, 0.00000000e+00, 0.00000000e+00,\n",
       "        0.00000000e+00, 0.00000000e+00, 0.00000000e+00, 0.00000000e+00,\n",
       "        0.00000000e+00, 0.00000000e+00, 0.00000000e+00, 0.00000000e+00,\n",
       "        0.00000000e+00, 0.00000000e+00, 0.00000000e+00, 0.00000000e+00,\n",
       "        0.00000000e+00, 0.00000000e+00, 0.00000000e+00, 0.00000000e+00,\n",
       "        0.00000000e+00, 0.00000000e+00, 3.14872043e-02, 4.18493425e-02,\n",
       "        4.18493425e-02, 4.18493425e-02, 4.18493425e-02, 4.18493425e-02,\n",
       "        4.18493425e-02, 4.18493425e-02, 4.18493425e-02, 4.18493425e-02,\n",
       "        4.18493425e-02, 4.18493425e-02, 4.18493425e-02, 4.18493425e-02,\n",
       "        4.18493425e-02, 4.18493425e-02, 4.18493425e-02, 4.18493425e-02,\n",
       "        4.18493425e-02, 4.18493425e-02, 4.18493425e-02, 4.18493425e-02,\n",
       "        4.18493425e-02, 4.18493425e-02, 4.18493425e-02, 4.18493425e-02,\n",
       "        4.18493425e-02, 4.18493425e-02, 4.18493425e-02, 4.18493425e-02,\n",
       "        4.18493425e-02, 4.18493425e-02, 4.18493425e-02, 4.18493425e-02,\n",
       "        4.18493425e-02, 4.18493425e-02, 4.18493425e-02, 4.18493425e-02,\n",
       "        4.18493425e-02, 4.18493425e-02, 4.18493425e-02, 4.18493425e-02,\n",
       "        4.18493425e-02, 0.00000000e+00, 0.00000000e+00, 0.00000000e+00,\n",
       "        0.00000000e+00, 0.00000000e+00, 0.00000000e+00, 0.00000000e+00,\n",
       "        0.00000000e+00, 0.00000000e+00, 0.00000000e+00, 0.00000000e+00,\n",
       "        0.00000000e+00, 0.00000000e+00, 0.00000000e+00, 0.00000000e+00,\n",
       "        0.00000000e+00, 0.00000000e+00, 0.00000000e+00, 0.00000000e+00,\n",
       "        0.00000000e+00, 0.00000000e+00, 0.00000000e+00, 0.00000000e+00,\n",
       "        0.00000000e+00, 0.00000000e+00, 0.00000000e+00, 0.00000000e+00,\n",
       "        0.00000000e+00, 0.00000000e+00, 0.00000000e+00, 0.00000000e+00,\n",
       "        0.00000000e+00, 0.00000000e+00, 0.00000000e+00, 0.00000000e+00,\n",
       "        0.00000000e+00, 0.00000000e+00, 0.00000000e+00, 0.00000000e+00,\n",
       "        0.00000000e+00, 0.00000000e+00, 0.00000000e+00, 0.00000000e+00,\n",
       "        0.00000000e+00, 0.00000000e+00, 0.00000000e+00, 0.00000000e+00]])"
      ]
     },
     "execution_count": 139,
     "metadata": {},
     "output_type": "execute_result"
    }
   ],
   "source": [
    "np.vstack((lidar_data,vel_list))\n"
   ]
  },
  {
   "cell_type": "code",
   "execution_count": 84,
   "metadata": {},
   "outputs": [
    {
     "data": {
      "text/plain": [
       "0"
      ]
     },
     "execution_count": 84,
     "metadata": {},
     "output_type": "execute_result"
    }
   ],
   "source": [
    "id"
   ]
  },
  {
   "cell_type": "markdown",
   "metadata": {},
   "source": [
    "```\n",
    "array([[ 4.39528485,  0.99289812],\n",
    "       [ 0.18490551,  4.52989102],\n",
    "       [-0.70995157,  2.22119054]])\n",
    "\n",
    "array([[ 4.39487931,  0.99279313],\n",
    "       [ 0.18486698,  4.52894719],\n",
    "       [-0.70957144,  2.21999399]])\n",
    "```"
   ]
  },
  {
   "cell_type": "code",
   "execution_count": 72,
   "metadata": {},
   "outputs": [
    {
     "data": {
      "image/png": "[encoded data removed]",
      "text/plain": [
       "<Figure size 640x480 with 1 Axes>"
      ]
     },
     "metadata": {},
     "output_type": "display_data"
    }
   ],
   "source": [
    "color = [\"yellow\",\"red\",'blue','orange']\n",
    " \n",
    "import matplotlib.pyplot as plt\n",
    "cnt = 0\n",
    "tot = 0\n",
    "for i in cluster:\n",
    "    for j in i:\n",
    "        tot+=1\n",
    "        plt.plot(j[0],j[1],color = color[cnt],marker = \".\")\n",
    "    cnt+=1\n",
    "        # print(j)\n",
    "plt.show()"
   ]
  },
  {
   "cell_type": "code",
   "execution_count": null,
   "metadata": {},
   "outputs": [
    {
     "data": {
      "image/png": "[encoded data removed]",
      "text/plain": [
       "<Figure size 640x480 with 1 Axes>"
      ]
     },
     "metadata": {},
     "output_type": "display_data"
    }
   ],
   "source": [
    "color = [\"yellow\",\"red\",'blue','orange']\n",
    " \n",
    "import matplotlib.pyplot as plt\n",
    "cnt = 0\n",
    "tot = 0\n",
    "for i in cluster:\n",
    "    for j in i:\n",
    "        tot+=1\n",
    "        plt.plot(j[0].item(),j[1].item(),color = color[cnt],marker = \"*\")\n",
    "    cnt+=1\n",
    "        # print(j)\n",
    "plt.show()"
   ]
  },
  {
   "cell_type": "code",
   "execution_count": null,
   "metadata": {},
   "outputs": [
    {
     "data": {
      "text/plain": [
       "[tensor([4.0219, 0.0684], device='cuda:0'),\n",
       " tensor([4.0494, 0.1377], device='cuda:0'),\n",
       " tensor([4.0773, 0.2081], device='cuda:0'),\n",
       " tensor([4.1058, 0.2796], device='cuda:0'),\n",
       " tensor([4.1348, 0.3523], device='cuda:0'),\n",
       " tensor([4.1644, 0.4262], device='cuda:0'),\n",
       " tensor([4.1946, 0.5015], device='cuda:0'),\n",
       " tensor([4.2255, 0.5782], device='cuda:0'),\n",
       " tensor([4.2570, 0.6565], device='cuda:0'),\n",
       " tensor([4.2893, 0.7363], device='cuda:0'),\n",
       " tensor([4.3223, 0.8178], device='cuda:0'),\n",
       " tensor([4.3562, 0.9012], device='cuda:0'),\n",
       " tensor([4.3909, 0.9865], device='cuda:0'),\n",
       " tensor([4.4265, 1.0739], device='cuda:0'),\n",
       " tensor([4.4631, 1.1634], device='cuda:0'),\n",
       " tensor([4.5007, 1.2553], device='cuda:0'),\n",
       " tensor([4.5394, 1.3497], device='cuda:0'),\n",
       " tensor([4.5793, 1.4467], device='cuda:0'),\n",
       " tensor([4.6204, 1.5466], device='cuda:0'),\n",
       " tensor([4.6628, 1.6494], device='cuda:0'),\n",
       " tensor([4.7067, 1.7555], device='cuda:0'),\n",
       " tensor([4.7520, 1.8650], device='cuda:0'),\n",
       " tensor([4.7990, 1.9782], device='cuda:0'),\n",
       " tensor([4.8476, 2.0954], device='cuda:0')]"
      ]
     },
     "execution_count": 52,
     "metadata": {},
     "output_type": "execute_result"
    }
   ],
   "source": [
    "cluster[0]"
   ]
  },
  {
   "cell_type": "code",
   "execution_count": null,
   "metadata": {},
   "outputs": [
    {
     "ename": "TypeError",
     "evalue": "can't convert cuda:0 device type tensor to numpy. Use Tensor.cpu() to copy the tensor to host memory first.",
     "output_type": "error",
     "traceback": [
      "\u001b[0;31m---------------------------------------------------------------------------\u001b[0m",
      "\u001b[0;31mTypeError\u001b[0m                                 Traceback (most recent call last)",
      "Cell \u001b[0;32mIn[51], line 1\u001b[0m\n\u001b[0;32m----> 1\u001b[0m \u001b[43mnp\u001b[49m\u001b[38;5;241;43m.\u001b[39;49m\u001b[43mmean\u001b[49m\u001b[43m(\u001b[49m\u001b[43mcluster\u001b[49m\u001b[43m[\u001b[49m\u001b[38;5;241;43m0\u001b[39;49m\u001b[43m]\u001b[49m\u001b[43m)\u001b[49m\n",
      "File \u001b[0;32m~/.local/lib/python3.10/site-packages/numpy/core/fromnumeric.py:3504\u001b[0m, in \u001b[0;36mmean\u001b[0;34m(a, axis, dtype, out, keepdims, where)\u001b[0m\n\u001b[1;32m   3501\u001b[0m     \u001b[38;5;28;01melse\u001b[39;00m:\n\u001b[1;32m   3502\u001b[0m         \u001b[38;5;28;01mreturn\u001b[39;00m mean(axis\u001b[38;5;241m=\u001b[39maxis, dtype\u001b[38;5;241m=\u001b[39mdtype, out\u001b[38;5;241m=\u001b[39mout, \u001b[38;5;241m*\u001b[39m\u001b[38;5;241m*\u001b[39mkwargs)\n\u001b[0;32m-> 3504\u001b[0m \u001b[38;5;28;01mreturn\u001b[39;00m \u001b[43m_methods\u001b[49m\u001b[38;5;241;43m.\u001b[39;49m\u001b[43m_mean\u001b[49m\u001b[43m(\u001b[49m\u001b[43ma\u001b[49m\u001b[43m,\u001b[49m\u001b[43m \u001b[49m\u001b[43maxis\u001b[49m\u001b[38;5;241;43m=\u001b[39;49m\u001b[43maxis\u001b[49m\u001b[43m,\u001b[49m\u001b[43m \u001b[49m\u001b[43mdtype\u001b[49m\u001b[38;5;241;43m=\u001b[39;49m\u001b[43mdtype\u001b[49m\u001b[43m,\u001b[49m\n\u001b[1;32m   3505\u001b[0m \u001b[43m                      \u001b[49m\u001b[43mout\u001b[49m\u001b[38;5;241;43m=\u001b[39;49m\u001b[43mout\u001b[49m\u001b[43m,\u001b[49m\u001b[43m \u001b[49m\u001b[38;5;241;43m*\u001b[39;49m\u001b[38;5;241;43m*\u001b[39;49m\u001b[43mkwargs\u001b[49m\u001b[43m)\u001b[49m\n",
      "File \u001b[0;32m~/.local/lib/python3.10/site-packages/numpy/core/_methods.py:102\u001b[0m, in \u001b[0;36m_mean\u001b[0;34m(a, axis, dtype, out, keepdims, where)\u001b[0m\n\u001b[1;32m    101\u001b[0m \u001b[38;5;28;01mdef\u001b[39;00m \u001b[38;5;21m_mean\u001b[39m(a, axis\u001b[38;5;241m=\u001b[39m\u001b[38;5;28;01mNone\u001b[39;00m, dtype\u001b[38;5;241m=\u001b[39m\u001b[38;5;28;01mNone\u001b[39;00m, out\u001b[38;5;241m=\u001b[39m\u001b[38;5;28;01mNone\u001b[39;00m, keepdims\u001b[38;5;241m=\u001b[39m\u001b[38;5;28;01mFalse\u001b[39;00m, \u001b[38;5;241m*\u001b[39m, where\u001b[38;5;241m=\u001b[39m\u001b[38;5;28;01mTrue\u001b[39;00m):\n\u001b[0;32m--> 102\u001b[0m     arr \u001b[38;5;241m=\u001b[39m \u001b[43masanyarray\u001b[49m\u001b[43m(\u001b[49m\u001b[43ma\u001b[49m\u001b[43m)\u001b[49m\n\u001b[1;32m    104\u001b[0m     is_float16_result \u001b[38;5;241m=\u001b[39m \u001b[38;5;28;01mFalse\u001b[39;00m\n\u001b[1;32m    106\u001b[0m     rcount \u001b[38;5;241m=\u001b[39m _count_reduce_items(arr, axis, keepdims\u001b[38;5;241m=\u001b[39mkeepdims, where\u001b[38;5;241m=\u001b[39mwhere)\n",
      "File \u001b[0;32m~/.local/lib/python3.10/site-packages/torch/_tensor.py:1062\u001b[0m, in \u001b[0;36mTensor.__array__\u001b[0;34m(self, dtype)\u001b[0m\n\u001b[1;32m   1060\u001b[0m     \u001b[38;5;28;01mreturn\u001b[39;00m handle_torch_function(Tensor\u001b[38;5;241m.\u001b[39m__array__, (\u001b[38;5;28mself\u001b[39m,), \u001b[38;5;28mself\u001b[39m, dtype\u001b[38;5;241m=\u001b[39mdtype)\n\u001b[1;32m   1061\u001b[0m \u001b[38;5;28;01mif\u001b[39;00m dtype \u001b[38;5;129;01mis\u001b[39;00m \u001b[38;5;28;01mNone\u001b[39;00m:\n\u001b[0;32m-> 1062\u001b[0m     \u001b[38;5;28;01mreturn\u001b[39;00m \u001b[38;5;28;43mself\u001b[39;49m\u001b[38;5;241;43m.\u001b[39;49m\u001b[43mnumpy\u001b[49m\u001b[43m(\u001b[49m\u001b[43m)\u001b[49m\n\u001b[1;32m   1063\u001b[0m \u001b[38;5;28;01melse\u001b[39;00m:\n\u001b[1;32m   1064\u001b[0m     \u001b[38;5;28;01mreturn\u001b[39;00m \u001b[38;5;28mself\u001b[39m\u001b[38;5;241m.\u001b[39mnumpy()\u001b[38;5;241m.\u001b[39mastype(dtype, copy\u001b[38;5;241m=\u001b[39m\u001b[38;5;28;01mFalse\u001b[39;00m)\n",
      "\u001b[0;31mTypeError\u001b[0m: can't convert cuda:0 device type tensor to numpy. Use Tensor.cpu() to copy the tensor to host memory first."
     ]
    }
   ],
   "source": [
    "np.mean(cluster[0].to)\n"
   ]
  },
  {
   "cell_type": "code",
   "execution_count": null,
   "metadata": {},
   "outputs": [],
   "source": []
  }
 ],
 "metadata": {
  "kernelspec": {
   "display_name": "Python 3",
   "language": "python",
   "name": "python3"
  },
  "language_info": {
   "codemirror_mode": {
    "name": "ipython",
    "version": 3
   },
   "file_extension": ".py",
   "mimetype": "text/x-python",
   "name": "python",
   "nbconvert_exporter": "python",
   "pygments_lexer": "ipython3",
   "version": "3.10.12"
  }
 },
 "nbformat": 4,
 "nbformat_minor": 2
}
