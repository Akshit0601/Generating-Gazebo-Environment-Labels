{
 "cells": [
  {
   "cell_type": "code",
   "execution_count": 2,
   "metadata": {},
   "outputs": [
    {
     "name": "stderr",
     "output_type": "stream",
     "text": [
      "/tmp/ipykernel_70707/2389314280.py:2: DeprecationWarning: \n",
      "Pyarrow will become a required dependency of pandas in the next major release of pandas (pandas 3.0),\n",
      "(to allow more performant data types, such as the Arrow string type, and better interoperability with other libraries)\n",
      "but was not found to be installed on your system.\n",
      "If this would cause problems for you,\n",
      "please provide us feedback at https://github.com/pandas-dev/pandas/issues/54466\n",
      "        \n",
      "  import pandas\n"
     ]
    }
   ],
   "source": [
    "import torch\n",
    "import pandas"
   ]
  },
  {
   "cell_type": "code",
   "execution_count": 3,
   "metadata": {},
   "outputs": [],
   "source": [
    "data = pandas.read_csv(\"data.csv\", index_col=None)\n",
    "# data.rename(columns ={'Unnamed: 0': 'id'}, inplace = True)\n"
   ]
  },
  {
   "cell_type": "code",
   "execution_count": 65,
   "metadata": {},
   "outputs": [
    {
     "data": {
      "text/html": [
       "<div>\n",
       "<style scoped>\n",
       "    .dataframe tbody tr th:only-of-type {\n",
       "        vertical-align: middle;\n",
       "    }\n",
       "\n",
       "    .dataframe tbody tr th {\n",
       "        vertical-align: top;\n",
       "    }\n",
       "\n",
       "    .dataframe thead th {\n",
       "        text-align: right;\n",
       "    }\n",
       "</style>\n",
       "<table border=\"1\" class=\"dataframe\">\n",
       "  <thead>\n",
       "    <tr style=\"text-align: right;\">\n",
       "      <th></th>\n",
       "      <th>Unnamed: 0.1</th>\n",
       "      <th>Unnamed: 0</th>\n",
       "      <th>id</th>\n",
       "      <th>frame_id</th>\n",
       "      <th>timestamp_ms</th>\n",
       "      <th>agent_type</th>\n",
       "      <th>x</th>\n",
       "      <th>y</th>\n",
       "      <th>vx</th>\n",
       "      <th>vy</th>\n",
       "      <th>psi_rad</th>\n",
       "      <th>length</th>\n",
       "      <th>width</th>\n",
       "      <th>velocity</th>\n",
       "      <th>ang_vel</th>\n",
       "    </tr>\n",
       "  </thead>\n",
       "  <tbody>\n",
       "    <tr>\n",
       "      <th>0</th>\n",
       "      <td>0</td>\n",
       "      <td>0</td>\n",
       "      <td>0</td>\n",
       "      <td>0</td>\n",
       "      <td>0</td>\n",
       "      <td>car</td>\n",
       "      <td>-14.351</td>\n",
       "      <td>4.636</td>\n",
       "      <td>0.025</td>\n",
       "      <td>-0.012</td>\n",
       "      <td>-0.434</td>\n",
       "      <td>4.0</td>\n",
       "      <td>1.8</td>\n",
       "      <td>0.027731</td>\n",
       "      <td>0.00</td>\n",
       "    </tr>\n",
       "    <tr>\n",
       "      <th>1</th>\n",
       "      <td>1</td>\n",
       "      <td>1</td>\n",
       "      <td>0</td>\n",
       "      <td>1</td>\n",
       "      <td>100</td>\n",
       "      <td>car</td>\n",
       "      <td>-14.349</td>\n",
       "      <td>4.634</td>\n",
       "      <td>0.003</td>\n",
       "      <td>-0.001</td>\n",
       "      <td>-0.434</td>\n",
       "      <td>4.0</td>\n",
       "      <td>1.8</td>\n",
       "      <td>0.003162</td>\n",
       "      <td>0.00</td>\n",
       "    </tr>\n",
       "    <tr>\n",
       "      <th>2</th>\n",
       "      <td>2</td>\n",
       "      <td>2</td>\n",
       "      <td>0</td>\n",
       "      <td>2</td>\n",
       "      <td>200</td>\n",
       "      <td>car</td>\n",
       "      <td>-14.349</td>\n",
       "      <td>4.634</td>\n",
       "      <td>-0.013</td>\n",
       "      <td>0.006</td>\n",
       "      <td>-0.434</td>\n",
       "      <td>4.0</td>\n",
       "      <td>1.8</td>\n",
       "      <td>0.014318</td>\n",
       "      <td>0.00</td>\n",
       "    </tr>\n",
       "    <tr>\n",
       "      <th>3</th>\n",
       "      <td>3</td>\n",
       "      <td>3</td>\n",
       "      <td>0</td>\n",
       "      <td>3</td>\n",
       "      <td>300</td>\n",
       "      <td>car</td>\n",
       "      <td>-14.350</td>\n",
       "      <td>4.635</td>\n",
       "      <td>-0.020</td>\n",
       "      <td>0.009</td>\n",
       "      <td>-0.434</td>\n",
       "      <td>4.0</td>\n",
       "      <td>1.8</td>\n",
       "      <td>0.021932</td>\n",
       "      <td>0.00</td>\n",
       "    </tr>\n",
       "    <tr>\n",
       "      <th>4</th>\n",
       "      <td>4</td>\n",
       "      <td>4</td>\n",
       "      <td>0</td>\n",
       "      <td>4</td>\n",
       "      <td>400</td>\n",
       "      <td>car</td>\n",
       "      <td>-14.352</td>\n",
       "      <td>4.636</td>\n",
       "      <td>-0.015</td>\n",
       "      <td>0.007</td>\n",
       "      <td>-0.434</td>\n",
       "      <td>4.0</td>\n",
       "      <td>1.8</td>\n",
       "      <td>0.016553</td>\n",
       "      <td>0.00</td>\n",
       "    </tr>\n",
       "    <tr>\n",
       "      <th>...</th>\n",
       "      <td>...</td>\n",
       "      <td>...</td>\n",
       "      <td>...</td>\n",
       "      <td>...</td>\n",
       "      <td>...</td>\n",
       "      <td>...</td>\n",
       "      <td>...</td>\n",
       "      <td>...</td>\n",
       "      <td>...</td>\n",
       "      <td>...</td>\n",
       "      <td>...</td>\n",
       "      <td>...</td>\n",
       "      <td>...</td>\n",
       "      <td>...</td>\n",
       "      <td>...</td>\n",
       "    </tr>\n",
       "    <tr>\n",
       "      <th>67560</th>\n",
       "      <td>67560</td>\n",
       "      <td>67560</td>\n",
       "      <td>4536</td>\n",
       "      <td>8992</td>\n",
       "      <td>899200</td>\n",
       "      <td>car</td>\n",
       "      <td>-20.550</td>\n",
       "      <td>-2.083</td>\n",
       "      <td>2.769</td>\n",
       "      <td>-1.803</td>\n",
       "      <td>-0.577</td>\n",
       "      <td>4.0</td>\n",
       "      <td>1.8</td>\n",
       "      <td>3.304265</td>\n",
       "      <td>-0.03</td>\n",
       "    </tr>\n",
       "    <tr>\n",
       "      <th>67561</th>\n",
       "      <td>67561</td>\n",
       "      <td>67561</td>\n",
       "      <td>4536</td>\n",
       "      <td>8993</td>\n",
       "      <td>899300</td>\n",
       "      <td>car</td>\n",
       "      <td>-20.276</td>\n",
       "      <td>-2.268</td>\n",
       "      <td>2.712</td>\n",
       "      <td>-1.780</td>\n",
       "      <td>-0.581</td>\n",
       "      <td>4.0</td>\n",
       "      <td>1.8</td>\n",
       "      <td>3.243970</td>\n",
       "      <td>-0.04</td>\n",
       "    </tr>\n",
       "    <tr>\n",
       "      <th>67562</th>\n",
       "      <td>67562</td>\n",
       "      <td>67562</td>\n",
       "      <td>4536</td>\n",
       "      <td>8994</td>\n",
       "      <td>899400</td>\n",
       "      <td>car</td>\n",
       "      <td>-20.008</td>\n",
       "      <td>-2.451</td>\n",
       "      <td>2.665</td>\n",
       "      <td>-1.763</td>\n",
       "      <td>-0.584</td>\n",
       "      <td>4.0</td>\n",
       "      <td>1.8</td>\n",
       "      <td>3.195371</td>\n",
       "      <td>-0.03</td>\n",
       "    </tr>\n",
       "    <tr>\n",
       "      <th>67563</th>\n",
       "      <td>67563</td>\n",
       "      <td>67563</td>\n",
       "      <td>4536</td>\n",
       "      <td>8995</td>\n",
       "      <td>899500</td>\n",
       "      <td>car</td>\n",
       "      <td>-19.745</td>\n",
       "      <td>-2.633</td>\n",
       "      <td>2.634</td>\n",
       "      <td>-1.755</td>\n",
       "      <td>-0.588</td>\n",
       "      <td>4.0</td>\n",
       "      <td>1.8</td>\n",
       "      <td>3.165119</td>\n",
       "      <td>-0.04</td>\n",
       "    </tr>\n",
       "    <tr>\n",
       "      <th>67564</th>\n",
       "      <td>67564</td>\n",
       "      <td>67564</td>\n",
       "      <td>4536</td>\n",
       "      <td>8996</td>\n",
       "      <td>899600</td>\n",
       "      <td>car</td>\n",
       "      <td>-19.484</td>\n",
       "      <td>-2.813</td>\n",
       "      <td>2.628</td>\n",
       "      <td>-1.764</td>\n",
       "      <td>-0.591</td>\n",
       "      <td>4.0</td>\n",
       "      <td>1.8</td>\n",
       "      <td>3.165135</td>\n",
       "      <td>-0.03</td>\n",
       "    </tr>\n",
       "  </tbody>\n",
       "</table>\n",
       "<p>67565 rows × 15 columns</p>\n",
       "</div>"
      ],
      "text/plain": [
       "       Unnamed: 0.1  Unnamed: 0    id  frame_id  timestamp_ms agent_type  \\\n",
       "0                 0           0     0         0             0        car   \n",
       "1                 1           1     0         1           100        car   \n",
       "2                 2           2     0         2           200        car   \n",
       "3                 3           3     0         3           300        car   \n",
       "4                 4           4     0         4           400        car   \n",
       "...             ...         ...   ...       ...           ...        ...   \n",
       "67560         67560       67560  4536      8992        899200        car   \n",
       "67561         67561       67561  4536      8993        899300        car   \n",
       "67562         67562       67562  4536      8994        899400        car   \n",
       "67563         67563       67563  4536      8995        899500        car   \n",
       "67564         67564       67564  4536      8996        899600        car   \n",
       "\n",
       "            x      y     vx     vy  psi_rad  length  width  velocity  ang_vel  \n",
       "0     -14.351  4.636  0.025 -0.012   -0.434     4.0    1.8  0.027731     0.00  \n",
       "1     -14.349  4.634  0.003 -0.001   -0.434     4.0    1.8  0.003162     0.00  \n",
       "2     -14.349  4.634 -0.013  0.006   -0.434     4.0    1.8  0.014318     0.00  \n",
       "3     -14.350  4.635 -0.020  0.009   -0.434     4.0    1.8  0.021932     0.00  \n",
       "4     -14.352  4.636 -0.015  0.007   -0.434     4.0    1.8  0.016553     0.00  \n",
       "...       ...    ...    ...    ...      ...     ...    ...       ...      ...  \n",
       "67560 -20.550 -2.083  2.769 -1.803   -0.577     4.0    1.8  3.304265    -0.03  \n",
       "67561 -20.276 -2.268  2.712 -1.780   -0.581     4.0    1.8  3.243970    -0.04  \n",
       "67562 -20.008 -2.451  2.665 -1.763   -0.584     4.0    1.8  3.195371    -0.03  \n",
       "67563 -19.745 -2.633  2.634 -1.755   -0.588     4.0    1.8  3.165119    -0.04  \n",
       "67564 -19.484 -2.813  2.628 -1.764   -0.591     4.0    1.8  3.165135    -0.03  \n",
       "\n",
       "[67565 rows x 15 columns]"
      ]
     },
     "execution_count": 65,
     "metadata": {},
     "output_type": "execute_result"
    }
   ],
   "source": [
    "data"
   ]
  },
  {
   "cell_type": "code",
   "execution_count": 4,
   "metadata": {},
   "outputs": [],
   "source": [
    "vector_map = dict()\n",
    "for i in data.id.unique():\n",
    "    temp_data = data[data['id']==i]\n",
    "    vec_list = list()\n",
    "    for iter,row in temp_data.iterrows():\n",
    "        vec = [float(row.x),float(row.y),float(row.timestamp_ms)]\n",
    "        vec_list.append(vec)\n",
    "    vector_map[i] = torch.tensor(vec_list).to(\"cuda\")\n"
   ]
  },
  {
   "cell_type": "code",
   "execution_count": 5,
   "metadata": {},
   "outputs": [
    {
     "data": {
      "text/plain": [
       "tensor([[-1.4351e+01,  4.6360e+00,  0.0000e+00],\n",
       "        [-1.4349e+01,  4.6340e+00,  1.0000e+02],\n",
       "        [-1.4349e+01,  4.6340e+00,  2.0000e+02],\n",
       "        ...,\n",
       "        [ 1.3949e+01,  1.3790e+01,  3.9000e+04],\n",
       "        [ 1.4428e+01,  1.4365e+01,  3.9100e+04],\n",
       "        [ 1.4881e+01,  1.4920e+01,  3.9200e+04]], device='cuda:0')"
      ]
     },
     "execution_count": 5,
     "metadata": {},
     "output_type": "execute_result"
    }
   ],
   "source": [
    "vector_map[0]"
   ]
  },
  {
   "cell_type": "code",
   "execution_count": 16,
   "metadata": {},
   "outputs": [],
   "source": [
    "from math import sin,cos\n",
    "angular_transform = torch.zeros(3,3).to(\"cuda\")\n",
    "linear_transform = torch.tensor([5,-15,0]).to('cuda')\n",
    "\n",
    "phi = 1.57"
   ]
  },
  {
   "cell_type": "code",
   "execution_count": 27,
   "metadata": {},
   "outputs": [],
   "source": [
    "angular_transform[0][0] = cos(phi)\n",
    "angular_transform[0][1] = sin(phi)\n",
    "angular_transform[1][0] = -1*sin(phi)\n",
    "angular_transform[1][1] = cos(phi)\n",
    "angular_transform[2][2] = 1"
   ]
  },
  {
   "cell_type": "code",
   "execution_count": 28,
   "metadata": {},
   "outputs": [
    {
     "data": {
      "text/plain": [
       "tensor([[ 7.9633e-04,  1.0000e+00,  0.0000e+00],\n",
       "        [-1.0000e+00,  7.9633e-04,  0.0000e+00],\n",
       "        [ 0.0000e+00,  0.0000e+00,  1.0000e+00]], device='cuda:0')"
      ]
     },
     "execution_count": 28,
     "metadata": {},
     "output_type": "execute_result"
    }
   ],
   "source": [
    "angular_transform"
   ]
  },
  {
   "cell_type": "code",
   "execution_count": 19,
   "metadata": {},
   "outputs": [],
   "source": [
    "vector_map[0]\n",
    "result_map = dict()"
   ]
  },
  {
   "cell_type": "code",
   "execution_count": 23,
   "metadata": {},
   "outputs": [],
   "source": [
    "result_map[0] = vector_map[0]-linear_transform"
   ]
  },
  {
   "cell_type": "code",
   "execution_count": 25,
   "metadata": {},
   "outputs": [
    {
     "data": {
      "text/plain": [
       "tensor([[-1.9351e+01,  1.9636e+01,  0.0000e+00],\n",
       "        [-1.9349e+01,  1.9634e+01,  1.0000e+02],\n",
       "        [-1.9349e+01,  1.9634e+01,  2.0000e+02],\n",
       "        ...,\n",
       "        [ 8.9490e+00,  2.8790e+01,  3.9000e+04],\n",
       "        [ 9.4280e+00,  2.9365e+01,  3.9100e+04],\n",
       "        [ 9.8810e+00,  2.9920e+01,  3.9200e+04]], device='cuda:0')"
      ]
     },
     "execution_count": 25,
     "metadata": {},
     "output_type": "execute_result"
    }
   ],
   "source": [
    "result_map[0]"
   ]
  },
  {
   "cell_type": "code",
   "execution_count": 29,
   "metadata": {},
   "outputs": [
    {
     "data": {
      "text/plain": [
       "tensor([[[-1.9651e+01, -1.9335e+01,  0.0000e+00],\n",
       "         [-1.9649e+01, -1.9333e+01,  1.0000e+02],\n",
       "         [-1.9649e+01, -1.9333e+01,  2.0000e+02],\n",
       "         ...,\n",
       "         [-2.8783e+01,  8.9719e+00,  3.9000e+04],\n",
       "         [-2.9357e+01,  9.4514e+00,  3.9100e+04],\n",
       "         [-2.9912e+01,  9.9048e+00,  3.9200e+04]]], device='cuda:0')"
      ]
     },
     "execution_count": 29,
     "metadata": {},
     "output_type": "execute_result"
    }
   ],
   "source": [
    "torch.bmm(result_map[0].unsqueeze(0),angular_transform.unsqueeze(0))"
   ]
  },
  {
   "cell_type": "code",
   "execution_count": 80,
   "metadata": {},
   "outputs": [],
   "source": [
    "\n",
    "\n",
    "\n",
    "linear_transform = torch.tensor([1.0,2.0,0]).to(\"cuda\")\n",
    "linear_transform.to(\"cuda\")\n",
    "\n",
    "result_map = dict()\n",
    "for i in vector_map:\n",
    "    # vector_map[i] = vector_map[i] - linear_transform\n",
    "    vector_map[i] = torch.bmm(vector_map[i].unsqueeze(0),angular_transform.unsqueeze(0)).squeeze() - linear_transform\n"
   ]
  },
  {
   "cell_type": "code",
   "execution_count": 81,
   "metadata": {},
   "outputs": [
    {
     "data": {
      "text/plain": [
       "tensor([-15.4621,  -6.2769,   0.0000], device='cuda:0')"
      ]
     },
     "execution_count": 81,
     "metadata": {},
     "output_type": "execute_result"
    }
   ],
   "source": [
    "vector_map[0][0] "
   ]
  },
  {
   "cell_type": "code",
   "execution_count": 4,
   "metadata": {},
   "outputs": [
    {
     "data": {
      "image/png": "[encoded data removed]",
      "text/plain": [
       "<Figure size 640x480 with 1 Axes>"
      ]
     },
     "metadata": {},
     "output_type": "display_data"
    }
   ],
   "source": [
    "import matplotlib.pyplot as plt\n",
    "import pandas\n",
    "import matplotlib.colors as mcolors\n",
    "import matplotlib.cm as cm\n",
    "\n",
    "color_map = cm.viridis\n",
    "\n",
    "data = pandas.read_csv(\"data.csv\")\n",
    "norm = mcolors.Normalize(vmin=0, vmax=len(data.id.unique()))\n",
    "\n",
    "fig, ax = plt.subplots()\n",
    "ax.set_xlabel('x-axis')\n",
    "ax.set_ylabel('y-axis')\n",
    "ax.set_title('vehicle path')\n",
    "plt.ion()  # Turn on interactive mode for dynamic updating\n",
    "\n",
    "for i in data.id.unique()[:20]:\n",
    "    data_temp = data[data['id']==i]\n",
    "    color = color_map(norm(i))\n",
    "\n",
    "    # for _,row in data_temp.iterrows():\n",
    "    ax.scatter(data_temp.x.to_list(),data_temp.y.to_list(),c=[color])\n",
    "\n",
    "ax.plot(5,-15,c=\"red\",marker = \"*\")\n",
    "plt.ioff()\n",
    "plt.show()\n",
    "\n"
   ]
  },
  {
   "cell_type": "markdown",
   "metadata": {},
   "source": [
    "Clustering of Lidar \n"
   ]
  },
  {
   "cell_type": "code",
   "execution_count": 1,
   "metadata": {},
   "outputs": [],
   "source": [
    "import torch\n"
   ]
  },
  {
   "cell_type": "code",
   "execution_count": 2,
   "metadata": {},
   "outputs": [],
   "source": [
    "import torch\n",
    "import numpy as np\n",
    "lidar = np.array([16, 16, 16, 16, 16, 16, 16, 16, 16, 16, 16, 16, 16, 16, 16, 16, 16, 16, 16, 16, 16, 16, 16, 16, 16, 16, 16, 16, 16, 16, 16, 16, 16, 16, 16, 16, 16, 16, 16, 16, 16, 16, 16, 16, 16, 16, 16, 16, 16, 16, 16, 16, 16, 16, 16, 16, 16, 16, 16, 16, 16, 16, 16, 16, 16, 16, 16, 16, 16, 16, 16, 16, 16, 16, 16, 16, 16, 16, 16, 16, 16, 16, 16, 16, 16, 16, 16, 16, 16, 16, 16, 16, 16, 16, 16, 16, 16, 11.366155624389648, 11.075774192810059, 10.803101539611816, 10.546699523925781, 10.305283546447754, 10.404522895812988, 10.554227828979492, 10.711647987365723, 10.877232551574707, 11.051470756530762, 11.234895706176758, 11.428088188171387, 11.631683349609375, 11.84637451171875, 12.072925567626953, 12.312172889709473, 12.56503963470459, 12.832541465759277, 16, 16, 16, 16, 16, 16, 16, 16, 16, 16, 16, 16, 16, 16, 16, 16, 16, 16, 16, 16, 16, 16, 11.869912147521973, 11.822927474975586, 11.779923439025879, 11.74083137512207, 11.705587387084961, 11.6741361618042, 11.646427154541016, 12.665647506713867, 16, 16, 16, 16, 16, 16, 16, 16, 16, 16, 16, 16, 16, 16, 16, 16, 16, 16, 16, 16, 16, 16, 16, 16, 16, 16, 16, 16, 16, 16, 16, 16, 16, 16, 16])\n",
    "filter_lidar = lidar[lidar<16]"
   ]
  },
  {
   "cell_type": "code",
   "execution_count": 3,
   "metadata": {},
   "outputs": [
    {
     "data": {
      "text/plain": [
       "array([11.36615562, 11.07577419, 10.80310154, 10.54669952, 10.30528355,\n",
       "       10.4045229 , 10.55422783, 10.71164799, 10.87723255, 11.05147076,\n",
       "       11.23489571, 11.42808819, 11.63168335, 11.84637451, 12.07292557,\n",
       "       12.31217289, 12.56503963, 12.83254147, 11.86991215, 11.82292747,\n",
       "       11.77992344, 11.74083138, 11.70558739, 11.67413616, 11.64642715,\n",
       "       12.66564751])"
      ]
     },
     "execution_count": 3,
     "metadata": {},
     "output_type": "execute_result"
    }
   ],
   "source": [
    "filter_lidar\n"
   ]
  },
  {
   "cell_type": "code",
   "execution_count": 4,
   "metadata": {},
   "outputs": [],
   "source": [
    "from math import degrees,sqrt,sin,cos\n",
    "from std_msgs.msg import Int64MultiArray\n",
    "import cmath\n",
    "\n",
    "# count_threshold = 4\n",
    "# length_threshold = sqrt((5**2)+(3.8**2))\n",
    "tensor_set = list()\n",
    "for i in filter_lidar:\n",
    "        thetha = np.argwhere(lidar == i)[0][0]*0.017\n",
    "        # z = complex(i*cos((lidar.index(i))*0.017),i*sin(lidar.index(i)*0.017))\n",
    "        point_tensor = [float(i)*cos(thetha),float(i)*sin(thetha)]\n",
    "        tensor_set.append(point_tensor)\n",
    "\n",
    "tensors = torch.tensor(tensor_set).to('cuda')\n"
   ]
  },
  {
   "cell_type": "code",
   "execution_count": 5,
   "metadata": {},
   "outputs": [
    {
     "data": {
      "text/plain": [
       "tensor([[-0.8880, 11.3314],\n",
       "        [-1.0529, 11.0256],\n",
       "        [-1.2096, 10.7352],\n",
       "        [-1.3589, 10.4588],\n",
       "        [-1.5013, 10.1953],\n",
       "        [-1.6905, 10.2663],\n",
       "        [-1.8916, 10.3833],\n",
       "        [-2.0987, 10.5040],\n",
       "        [-2.3122, 10.6286],\n",
       "        [-2.5324, 10.7574],\n",
       "        [-2.7600, 10.8906],\n",
       "        [-2.9954, 11.0286],\n",
       "        [-3.2391, 11.1716],\n",
       "        [-3.4918, 11.3201],\n",
       "        [-3.7542, 11.4744],\n",
       "        [-4.0270, 11.6350],\n",
       "        [-4.3109, 11.8024],\n",
       "        [-4.6070, 11.9771],\n",
       "        [-8.1620,  8.6184],\n",
       "        [-8.2744,  8.4449],\n",
       "        [-8.3862,  8.2728],\n",
       "        [-8.4973,  8.1021],\n",
       "        [-8.6079,  7.9326],\n",
       "        [-8.7180,  7.7642],\n",
       "        [-8.8277,  7.5968],\n",
       "        [-9.7393,  8.0972]], device='cuda:0')"
      ]
     },
     "execution_count": 5,
     "metadata": {},
     "output_type": "execute_result"
    }
   ],
   "source": [
    "tensors"
   ]
  },
  {
   "cell_type": "code",
   "execution_count": 6,
   "metadata": {},
   "outputs": [],
   "source": [
    "car_pose = torch.tensor([[-5.095668,14.788768-2.46666],[-9.186936,9.929110-2.46666]]).to('cuda')"
   ]
  },
  {
   "cell_type": "code",
   "execution_count": 7,
   "metadata": {},
   "outputs": [
    {
     "name": "stdout",
     "output_type": "stream",
     "text": [
      "tensor(0, device='cuda:0')\n",
      "tensor(0, device='cuda:0')\n",
      "tensor(0, device='cuda:0')\n",
      "tensor(0, device='cuda:0')\n",
      "tensor(0, device='cuda:0')\n",
      "tensor(0, device='cuda:0')\n",
      "tensor(0, device='cuda:0')\n",
      "tensor(0, device='cuda:0')\n",
      "tensor(0, device='cuda:0')\n",
      "tensor(0, device='cuda:0')\n",
      "tensor(0, device='cuda:0')\n",
      "tensor(0, device='cuda:0')\n",
      "tensor(0, device='cuda:0')\n",
      "tensor(0, device='cuda:0')\n",
      "tensor(0, device='cuda:0')\n",
      "tensor(0, device='cuda:0')\n",
      "tensor(0, device='cuda:0')\n",
      "tensor(0, device='cuda:0')\n",
      "tensor(1, device='cuda:0')\n",
      "tensor(1, device='cuda:0')\n",
      "tensor(1, device='cuda:0')\n",
      "tensor(1, device='cuda:0')\n",
      "tensor(1, device='cuda:0')\n",
      "tensor(1, device='cuda:0')\n",
      "tensor(1, device='cuda:0')\n",
      "tensor(1, device='cuda:0')\n"
     ]
    }
   ],
   "source": [
    "for i in torch.cdist(tensors,car_pose):\n",
    "        #  print(torch.argmin(i)) \n",
    "        print(torch.argmin(i))\n",
    "        # print(i)"
   ]
  },
  {
   "cell_type": "code",
   "execution_count": 8,
   "metadata": {},
   "outputs": [
    {
     "ename": "NameError",
     "evalue": "name 'norm_tensor' is not defined",
     "output_type": "error",
     "traceback": [
      "\u001b[0;31m---------------------------------------------------------------------------\u001b[0m",
      "\u001b[0;31mNameError\u001b[0m                                 Traceback (most recent call last)",
      "Cell \u001b[0;32mIn[8], line 1\u001b[0m\n\u001b[0;32m----> 1\u001b[0m \u001b[43mnorm_tensor\u001b[49m\n",
      "\u001b[0;31mNameError\u001b[0m: name 'norm_tensor' is not defined"
     ]
    }
   ],
   "source": [
    "norm_tensor"
   ]
  },
  {
   "cell_type": "code",
   "execution_count": 9,
   "metadata": {},
   "outputs": [
    {
     "name": "stderr",
     "output_type": "stream",
     "text": [
      "/home/akshit/.local/lib/python3.10/site-packages/matplotlib/projections/__init__.py:63: UserWarning: Unable to import Axes3D. This may be due to multiple versions of Matplotlib being installed (e.g. as a system package and as a pip package). As a result, the 3D projection is not available.\n",
      "  warnings.warn(\"Unable to import Axes3D. This may be due to multiple versions of \"\n"
     ]
    },
    {
     "data": {
      "image/png": "[encoded data removed]",
      "text/plain": [
       "<Figure size 640x480 with 1 Axes>"
      ]
     },
     "metadata": {},
     "output_type": "display_data"
    }
   ],
   "source": [
    "import matplotlib.pyplot as plt\n",
    "\n",
    "color = {0: 'blue', 1: 'red'}\n",
    "\n",
    "norm_tensor = torch.cdist(tensors,car_pose)\n",
    "cnt = 0\n",
    "plt.plot(car_pose[0][0].item(),car_pose[0][1].item(),marker = \".\")\n",
    "plt.plot(car_pose[1][0].item(),car_pose[1][1].item(),marker = \".\")\n",
    "for i in tensors:\n",
    "    plt.plot(i[0].item(),i[1].item(),c = color[torch.argmin(norm_tensor[cnt]).item()],marker = \"*\")\n",
    "    # print(torch.argmin(norm_tensor[cnt]).item())\n",
    "    cnt+=1\n",
    "plt.show()"
   ]
  },
  {
   "cell_type": "markdown",
   "metadata": {},
   "source": [
    "EUCLEDEAN CLUSTERING"
   ]
  },
  {
   "cell_type": "code",
   "execution_count": 1,
   "metadata": {},
   "outputs": [
    {
     "name": "stdout",
     "output_type": "stream",
     "text": [
      "list.remove(x): x not in list\n",
      "tensor([[ 3.8149, -4.0207],\n",
      "        [ 0.3575,  3.7394]], device='cuda:0', dtype=torch.float64)\n",
      "-1.1516541138522258\n",
      "tensor([[9.3704, 8.8299],\n",
      "        [0.3575, 3.7394]], device='cuda:0', dtype=torch.float64)\n",
      "0.5141370380412114\n"
     ]
    }
   ],
   "source": [
    "import torch\n",
    "import numpy as np\n",
    "from scipy.spatial.distance import cdist\n",
    "from time import time\n",
    "t0 = time()\n",
    "index_dict = dict()\n",
    "lidar_data = np.array([16 ,16 ,16 ,16 ,16 ,16 ,16 ,16 ,16 ,16 ,16 ,16 ,16 ,16 ,16 ,16 ,16 ,16 ,16 ,16 ,16                ,16                ,16               ,16               ,16               ,16               ,16               ,16               ,16                ,16                ,7.4688849449157715 ,7.2504119873046875 ,7.046463489532471  ,6.855727195739746  ,6.67704439163208   ,6.509391784667969  ,6.351858615875244  ,6.203633785247803  ,6.063992500305176  ,5.932284832000732  ,5.807925701141357  ,5.6903886795043945 ,5.579197406768799  ,5.4739203453063965 ,5.3741655349731445 ,5.279577255249023  ,5.1898298263549805 ,5.10462760925293   ,5.023698329925537  ,4.946794033050537  ,4.873685359954834  ,4.804162979125977  ,4.738033771514893  ,4.720409393310547  ,4.834488868713379  ,4.955781936645508  ,5.084922790527344  ,5.2226243019104    ,5.369689464569092  ,5.527027606964111  ,5.695669651031494  ,16                ,16                ,16                ,16                ,16                ,16                ,16                ,16                ,16                ,16                ,16                ,16                ,16                ,16                ,16                ,16                ,16                ,16                ,16                ,16                ,16                ,16                ,16                ,16                ,16                ,16                ,16                ,16                ,16                ,16                ,16                ,16                ,16                ,16                ,16                ,16                ,16                ,16                ,16                ,16                ,16                ,16                ,16                ,16                ,16                ,16                ,16                ,16                ,16                ,16                ,16                ,16                ,16                ,16                ,16                ,16                ,16                ,16                ,16                ,16                ,16                ,16                ,16                ,16                ,16                ,16                ,16                ,16                ,14.60425090789795   ,14.30301284790039   ,14.018177032470703  ,13.748612403869629  ,13.493293762207031  ,13.251287460327148  ,13.021745681762695  ,12.80389404296875   ,12.597023963928223  ,12.400486946105957  ,12.213688850402832  ,12.036084175109863  ,12.015138626098633  ,12.289454460144043  ,12.580551147460938  ,12.8898344039917    ,16                ,16                ,16                ,16               ,16 ,16 ,16 ,16 ,16 ,16 ,16 ,16 ,16 ,16 ,16 ,16 ,16 ,16 ,16 ,16 ,16 ,16 ,16 ,16 ,16 ,16 ,16 ,16 ,16 ,16 ,16 ,16 ,16 ,16 ,16])\n",
    "# lidar_data = lidar_data[lidar_data<16]\n",
    "vel_list = np.zeros(lidar_data.shape[0])\n",
    "ang_list = np.zeros(lidar_data.shape[0])\n",
    "\n",
    "tensor = torch.tensor(lidar_data).to('cuda')\n",
    "\n",
    "\n",
    "def batch_slice_tensor(tensor):\n",
    "    result = []\n",
    "    current_subarray = []\n",
    "\n",
    "    for element in tensor:\n",
    "        if element < 16:\n",
    "            current_subarray.append(element)\n",
    "        else:\n",
    "            if current_subarray:\n",
    "                result.append(torch.tensor(current_subarray).to('cuda'))\n",
    "                current_subarray = []\n",
    "    if current_subarray:\n",
    "        result.append(torch.tensor(current_subarray).to('cuda'))\n",
    "\n",
    "    return result\n",
    "l = batch_slice_tensor(tensor=tensor)\n",
    "lenth_threshold = 0.09 #parameter\n",
    "from math import sin,cos\n",
    "cluster = list()\n",
    "lenth_threshold = 0.4\n",
    "for i in l:\n",
    "    temp_cluster = list()\n",
    "    tensor_set = list()\n",
    "    for j in i:\n",
    "        thetha = np.argwhere(lidar_data == j.item())[0][0]*0.017 - 1.57\n",
    "        # z = complex(i*cos((lidar.index(i))*0.017),i*sin(lidar.index(i)*0.017))\n",
    "        point_tensor = [float(j.item())*cos(thetha),float(j.item())*sin(thetha)]\n",
    "        index_dict[point_tensor[0]] = j.item()\n",
    "        tensor_set.append(point_tensor)\n",
    "    \n",
    "    tensor_set_ = torch.tensor(tensor_set).to('cuda')\n",
    "\n",
    "    for k in range(1,len(tensor_set)):\n",
    "        length = torch.norm(tensor_set_[k]-tensor_set_[k-1])\n",
    "        # print(length)\n",
    "        if abs(length.item())>lenth_threshold:\n",
    "            cluster.append(temp_cluster)\n",
    "            temp_cluster = list()\n",
    "            # print(\"thresh\")\n",
    "        \n",
    "        temp_cluster.append(tensor_set[k])\n",
    "        # print(temp_cluster)\n",
    "    if temp_cluster:\n",
    "        cluster.append(temp_cluster)\n",
    "        \n",
    "\n",
    "    \n",
    "\n",
    "m_list = list()\n",
    "for i in cluster:\n",
    "    if i:\n",
    "        m_list.append(np.mean(i,axis=0).tolist())\n",
    "m_list = np.array(m_list)\n",
    "\n",
    "arr_prev = np.array([[ 0.35747381,  3.73943314],\n",
    "       [-8.82248287,  9.37740821]])\n",
    "\n",
    "\n",
    "arr_curr = m_list\n",
    "\n",
    "dist = cdist(arr_curr,arr_prev)\n",
    "try:\n",
    "    cluster.remove([])\n",
    "except Exception as e:\n",
    "    print(e)\n",
    "from math import atan\n",
    "\n",
    "for i in range(m_list.shape[0]):\n",
    "    id = np.argmin(dist[i]) #id refers to cluster id\n",
    "    velocity = dist[i][id]/0.03\n",
    "    a1 = torch.tensor(np.vstack((arr_curr[i],arr_prev[id]))).to('cuda')\n",
    "    print(a1)\n",
    "    diff = torch.diff(a1,dim=0)\n",
    "\n",
    "    if velocity:\n",
    "        angle = atan(diff[0][1].item()/(diff[0][0].item()))\n",
    "    else:\n",
    "        angle = 0\n",
    "    \n",
    "      \n",
    "    print(angle) \n",
    "    # print(velocity)\n",
    "    # print(cluster[id])\n",
    "    for k in cluster[id]:\n",
    "        idx = np.where(lidar_data == index_dict[k[0]])[0].item()\n",
    "        # print(index_dict[k[0]])\n",
    "        vel_list[idx] = velocity\n",
    "        ang_list[idx] = angle\n",
    "\n",
    "\n",
    "t2 = time()\n"
   ]
  },
  {
   "cell_type": "code",
   "execution_count": 2,
   "metadata": {},
   "outputs": [
    {
     "data": {
      "text/plain": [
       "2"
      ]
     },
     "execution_count": 2,
     "metadata": {},
     "output_type": "execute_result"
    }
   ],
   "source": [
    "len(cluster)"
   ]
  },
  {
   "cell_type": "markdown",
   "metadata": {},
   "source": [
    "```\n",
    "LOGS\n",
    "\n",
    "array([[ 4.39528485,  0.99289812],\n",
    "       [ 0.18490551,  4.52989102],\n",
    "       [-0.70995157,  2.22119054]])\n",
    "\n",
    "array([[ 4.39487931,  0.99279313],\n",
    "       [ 0.18486698,  4.52894719],\n",
    "       [-0.70957144,  2.21999399]])\n",
    "\n",
    "\n",
    "array([[ 0.35747381,  3.73943314],\n",
    "       [-8.82248287,  9.37740821]])\n",
    "\n",
    "```"
   ]
  },
  {
   "cell_type": "code",
   "execution_count": 13,
   "metadata": {},
   "outputs": [
    {
     "name": "stderr",
     "output_type": "stream",
     "text": [
      "/home/akshit/.local/lib/python3.10/site-packages/matplotlib/projections/__init__.py:63: UserWarning: Unable to import Axes3D. This may be due to multiple versions of Matplotlib being installed (e.g. as a system package and as a pip package). As a result, the 3D projection is not available.\n",
      "  warnings.warn(\"Unable to import Axes3D. This may be due to multiple versions of \"\n"
     ]
    },
    {
     "data": {
      "image/png": "[encoded data removed]",
      "text/plain": [
       "<Figure size 640x480 with 1 Axes>"
      ]
     },
     "metadata": {},
     "output_type": "display_data"
    }
   ],
   "source": [
    "color = [\"yellow\",\"red\",'blue','orange']\n",
    " \n",
    "import matplotlib.pyplot as plt\n",
    "cnt = 0\n",
    "tot = 0\n",
    "for i in cluster:\n",
    "    for j in i:\n",
    "        tot+=1\n",
    "        plt.plot(j[0],j[1],color = color[cnt],marker = \".\")\n",
    "    cnt+=1\n",
    "        # print(j)\n",
    "plt.show()"
   ]
  },
  {
   "cell_type": "code",
   "execution_count": 14,
   "metadata": {},
   "outputs": [],
   "source": [
    "final = np.vstack((lidar_data,vel_list,ang_list))\n",
    "np.save('final.npy',final)"
   ]
  },
  {
   "cell_type": "code",
   "execution_count": 15,
   "metadata": {},
   "outputs": [],
   "source": [
    "def process(self):\n",
    "\n",
    "        # linear_transform = torch.tensor([self.x,self.y])\n",
    "        # angular_tranform = torch.tensor([[cos(self.phi),-1*sin(self.phi)],\n",
    "        #                                     [sin(self.phi), cos(self.phi)]])\n",
    "\n",
    "        #time thresholds\n",
    "        if self.control_loop_init: \n",
    "\n",
    "            \n",
    "            self.time_threshold = self.time_int*100\n",
    "\n",
    "            self.greater_threshold[2] = self.time_threshold\n",
    "            keys_to_be_deleted = list()\n",
    "  \n",
    "            \n",
    "\n",
    "            '''\n",
    "            check whether ego vehicle has been updated or not, if yes then the transformation matrices are \n",
    "            updated and coordinates are transformed over cuda/cpu of each vehicle.\n",
    "            Done to avoid computing transformation over each iteration even if there is no change in odometry\n",
    "            '''\n",
    "            # linear_truth = self.linear_transform[0] != self.x or self.linear_transform[1] != self.y\n",
    "            # angular_truth = self.angular_transform[0][0] != cos(self.phi) or self.angular_transform[0][1] != -1*sin(self.phi) or self.angular_transform[1][0] != sin(self.phi) or self.angular_transform[1][1] != cos(self.phi) \n",
    "            for i in vector_map:\n",
    "                linear_truth = round((self.linear_transform[0].item() - self.x),2) != 0.0 or round((self.linear_transform[1].item() - self.y),2) != 0 \n",
    "                angular_truth = round((self.angular_transform[0][0].item() - cos(self.phi)),2) != 0.0 or round((self.angular_transform[0][1].item() - (-1)*sin(self.phi)),2) != 0.0 or round((self.angular_transform[1][0].item() - sin(self.phi)),2) != 0.0 or round((self.angular_transform[1][1].item() - cos(self.phi)),2) != 0.0\n",
    "\n",
    "            \n",
    "                self.get_logger().info(f\"{self.x}\")\n",
    "\n",
    "                if (linear_truth):\n",
    "                    self.linear_transform[0] = self.x\n",
    "                    self.linear_transform[1] = self.y\n",
    "                if (angular_truth):\n",
    "                    self.angular_transform[0][0] = cos(self.phi)\n",
    "                    self.angular_transform[0][1] = -1*sin(self.phi)\n",
    "                    self.angular_transform[1][0] = sin(self.phi)\n",
    "                    self.angular_transform[1][1] = cos(self.phi)\n",
    "\n",
    "                if (linear_truth or angular_truth):\n",
    "                    self.result_map[i] = self.vector_map[i] - self.linear_transform\n",
    "                    self.result_map[i] = torch.bmm(self.vector_map[i].unsqueeze(0),self.angular_transform.unsqueeze(0)).squeeze() \n",
    "                # self.get_logger().info(\"vector state map updated\")\n",
    "\n",
    "                idx = self.individual_idx_counter[i].item()\n",
    "\n",
    "                    ## transformation of vector map\n",
    "                   \n",
    "                    ## check if the traffic vehicle is within fov and has been spawned yet, based on current timestamp shown by self.timeint\n",
    "                    \n",
    "                try:\n",
    "                    truth_tensor = self.result_map[i][idx].less_equal(self.greater_threshold)\n",
    "                    greater_truth = False if False in truth_tensor else True\n",
    "                    less_truth = False if False in self.result_map[i][idx].greater_equal(self.lesser_threshold) else True\n",
    "                    if self.result_map[i][idx][2].equal(self.greater_threshold[2]):\n",
    "                        self.individual_idx_counter[i]+=1   #only increment in index if they have been spawned\n",
    "\n",
    "                    self.pub_list[i] = int(greater_truth and less_truth)\n",
    "                    \n",
    "\n",
    "                except IndexError:\n",
    "                    # self.get_logger().info(str(e.__class__.__name__))\n",
    "                    self.pub_list[i] = 0\n",
    "                    keys_to_be_deleted.append(i)\n",
    "                    self.exit_counter+=1\n",
    "                \n",
    "                        \n",
    "            #delete entries whose data is not available after this iteration\n",
    "            \n",
    "            for key in keys_to_be_deleted:\n",
    "                del self.vector_map[key] \n",
    "                del self.result_map[key]\n",
    "            #when all entries are deleted\n",
    "            if self.exit_counter==self.exit_threshold:   #kills the node when no more vehicle are there to analyse\n",
    "                self.get_logger().info(\"killing node now\")\n",
    "                self.get_logger().info(\"length: \"+str(len(self.vector_map)))\n",
    "                self.get_logger().info(str(self.time_int))\n",
    "                self.destroy_node()\n",
    "                rclpy.shutdown() \n",
    "\n",
    "            d = np.nonzero(self.pub_list)[0].tolist()\n",
    "            d.append(self.time_int) ##like a checksum\n",
    "            self.msg.data = d\n",
    "            \n",
    "            self.status_publisher.publish(self.msg)\n",
    "            # self.get_logger().info(\"publishing status list\")\n",
    "            # self.get_logger().info(str(self.exit_counter))\n",
    "\n",
    "            self.time_int+=1"
   ]
  }
 ],
 "metadata": {
  "kernelspec": {
   "display_name": "Python 3",
   "language": "python",
   "name": "python3"
  },
  "language_info": {
   "codemirror_mode": {
    "name": "ipython",
    "version": 3
   },
   "file_extension": ".py",
   "mimetype": "text/x-python",
   "name": "python",
   "nbconvert_exporter": "python",
   "pygments_lexer": "ipython3",
   "version": "3.10.12"
  }
 },
 "nbformat": 4,
 "nbformat_minor": 2
}
